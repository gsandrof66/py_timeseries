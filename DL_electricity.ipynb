{
 "cells": [
  {
   "cell_type": "markdown",
   "id": "85b46ec4",
   "metadata": {},
   "source": [
    "# Electricity prediction"
   ]
  },
  {
   "cell_type": "markdown",
   "id": "cc092458",
   "metadata": {},
   "source": [
    "Source: https://medium.com/@kylejones_47003/neural-networks-for-time-series-with-tensorflow-keras-in-python-0479918268f1"
   ]
  },
  {
   "cell_type": "code",
   "execution_count": 7,
   "id": "f339838f",
   "metadata": {},
   "outputs": [],
   "source": [
    "import pandas as pd, numpy as np, os\n",
    "from sklearn.model_selection import train_test_split\n",
    "from sklearn.preprocessing import MinMaxScaler\n",
    "import plotly.express as px\n",
    "import plotly.graph_objects as go\n",
    "import plotly.io as pio # settings like template by default\n",
    "\n",
    "from dotenv import load_dotenv\n",
    "from pathlib import Path\n",
    "\n",
    "load_dotenv(dotenv_path = Path('.') / '.config')\n",
    "\n",
    "pio.templates.default = os.getenv(\"template_plotly\") # default template\n",
    "\n",
    "only_cpu = True\n",
    "if only_cpu: \n",
    "    os.environ[\"CUDA_VISIBLE_DEVICES\"] = str(os.getenv(\"CUDA_VISIBLE_DEVICES\"))\n",
    "    os.environ['TF_CPP_MIN_LOG_LEVEL'] = str(os.getenv(\"TF_CPP_MIN_LOG_LEVEL\"))  # 0 = all logs, 1 = filter INFO, 2 = filter WARNING, 3 = filter ERROR\n",
    "\n",
    "import tensorflow as tf\n",
    "# gpus = tf.config.list_physical_devices('GPU')  # obtiene las gpus instaladas\n",
    "# if len(gpus) > 0:   # If GPU available\n",
    "#     tf.config.experimental.set_memory_growth(gpus[0], True)\n",
    "#     print(gpus)"
   ]
  },
  {
   "cell_type": "code",
   "execution_count": 8,
   "id": "d0c8754e",
   "metadata": {},
   "outputs": [
    {
     "name": "stdout",
     "output_type": "stream",
     "text": [
      "Data (26304, 1)\n"
     ]
    },
    {
     "data": {
      "text/html": [
       "<div>\n",
       "<style scoped>\n",
       "    .dataframe tbody tr th:only-of-type {\n",
       "        vertical-align: middle;\n",
       "    }\n",
       "\n",
       "    .dataframe tbody tr th {\n",
       "        vertical-align: top;\n",
       "    }\n",
       "\n",
       "    .dataframe thead th {\n",
       "        text-align: right;\n",
       "    }\n",
       "</style>\n",
       "<table border=\"1\" class=\"dataframe\">\n",
       "  <thead>\n",
       "    <tr style=\"text-align: right;\">\n",
       "      <th></th>\n",
       "      <th>load</th>\n",
       "    </tr>\n",
       "    <tr>\n",
       "      <th>timestamp</th>\n",
       "      <th></th>\n",
       "    </tr>\n",
       "  </thead>\n",
       "  <tbody>\n",
       "    <tr>\n",
       "      <th>2012-01-01 00:00:00</th>\n",
       "      <td>2698.0</td>\n",
       "    </tr>\n",
       "    <tr>\n",
       "      <th>2012-01-01 01:00:00</th>\n",
       "      <td>2558.0</td>\n",
       "    </tr>\n",
       "  </tbody>\n",
       "</table>\n",
       "</div>"
      ],
      "text/plain": [
       "                       load\n",
       "timestamp                  \n",
       "2012-01-01 00:00:00  2698.0\n",
       "2012-01-01 01:00:00  2558.0"
      ]
     },
     "execution_count": 8,
     "metadata": {},
     "output_type": "execute_result"
    }
   ],
   "source": [
    "df = pd.read_csv(\"data/energy.csv\", usecols=[\"timestamp\", \"load\"])\n",
    "df.timestamp = pd.to_datetime(df.timestamp)\n",
    "df.sort_values(by=['timestamp'], inplace=True, ascending=True)\n",
    "df.set_index('timestamp', inplace=True)\n",
    "print(f\"Data {df.shape}\")\n",
    "df.head(2)"
   ]
  },
  {
   "cell_type": "code",
   "execution_count": 33,
   "id": "ad41aa6f",
   "metadata": {},
   "outputs": [
    {
     "name": "stdout",
     "output_type": "stream",
     "text": [
      "Train shape: (21040, 3), Test shape: (5261, 3)\n",
      "Train labels shape: (21040, 1), Test labels shape: (5261, 1)\n"
     ]
    },
    {
     "data": {
      "text/plain": [
       "<keras.src.callbacks.history.History at 0x7f09006051c0>"
      ]
     },
     "execution_count": 33,
     "metadata": {},
     "output_type": "execute_result"
    }
   ],
   "source": [
    "# Create lagged features\n",
    "def create_features(data, lag=3):\n",
    "    X, y = [], []\n",
    "    for i in range(len(data) - lag):\n",
    "        X.append(data[i:i + lag])\n",
    "        y.append(data[i + lag])\n",
    "    X = np.array(X)\n",
    "    X = X.reshape((X.shape[0], lag))\n",
    "    y = np.array(y)\n",
    "    return X, y\n",
    "\n",
    "lag = 3\n",
    "X, y = create_features(df.values, lag=lag)\n",
    "\n",
    "# Split data into train and test sets\n",
    "X_train, X_test, y_train, y_test = train_test_split(X, y, test_size=0.2, random_state=42)\n",
    "print(f\"Train shape: {X_train.shape}, Test shape: {X_test.shape}\")\n",
    "print(f\"Train labels shape: {y_train.shape}, Test labels shape: {y_test.shape}\")\n",
    "\n",
    "# Normalize the data\n",
    "scaler_X = MinMaxScaler()\n",
    "scaler_y = MinMaxScaler()\n",
    "X_train = scaler_X.fit_transform(X_train)\n",
    "# X_test = scaler.transform(X_test)\n",
    "y_train = scaler_y.fit_transform(y_train)\n",
    "\n",
    "# Build a simple feedforward neural network\n",
    "model = tf.keras.Sequential([\n",
    "    tf.keras.layers.Input(shape=(lag,)),\n",
    "    tf.keras.layers.Dense(60, activation='relu'),\n",
    "    tf.keras.layers.Dense(7, activation='relu'),\n",
    "    tf.keras.layers.Dropout(0.1),\n",
    "    tf.keras.layers.Dense(1)\n",
    "])\n",
    "\n",
    "model.compile(optimizer='adam', loss='mse')\n",
    "\n",
    "# Train the model\n",
    "model.fit(X_train, y_train, epochs=50, batch_size=8, verbose=False, validation_split=0.1)"
   ]
  },
  {
   "cell_type": "code",
   "execution_count": 27,
   "id": "cde1f821",
   "metadata": {},
   "outputs": [
    {
     "name": "stdout",
     "output_type": "stream",
     "text": [
      "RMSE: 62.2721949706431\n"
     ]
    }
   ],
   "source": [
    "X_test_scaled = scaler_X.transform(X_test)\n",
    "y_pred_scaled = model.predict(X_test_scaled, verbose=False)\n",
    "# Inverse transform the prediction\n",
    "y_pred = scaler_y.inverse_transform(y_pred_scaled)\n",
    "\n",
    "rmse = np.sqrt(np.mean((y_test - y_pred)**2))\n",
    "print(\"RMSE:\", rmse)"
   ]
  },
  {
   "cell_type": "code",
   "execution_count": 32,
   "id": "d2ffe1d7",
   "metadata": {},
   "outputs": [
    {
     "name": "stdout",
     "output_type": "stream",
     "text": [
      "                       load       y_pred\n",
      "timestamp                               \n",
      "2014-05-27 00:00:00  2343.0  2453.846436\n",
      "2014-05-27 01:00:00  2259.0  2339.615234\n",
      "2014-05-27 02:00:00  2228.0  3397.627441\n",
      "2014-05-27 03:00:00  2254.0  3644.910889\n",
      "2014-05-27 04:00:00  2349.0  3545.921631\n",
      "2014-05-27 05:00:00  2582.0  3612.176025\n",
      "2014-05-27 06:00:00  3026.0  3209.930908\n",
      "2014-05-27 07:00:00  3311.0  2262.046875\n",
      "2014-05-27 08:00:00  3371.0  3871.259277\n",
      "2014-05-27 09:00:00  3446.0  4021.327637\n",
      "2014-05-27 10:00:00  3476.0  2340.603027\n",
      "2014-05-27 11:00:00  3490.0  3331.357910\n",
      "2014-05-27 12:00:00  3464.0  2606.026367\n",
      "2014-05-27 13:00:00  3461.0  3890.755615\n",
      "2014-05-27 14:00:00  3425.0  3355.646729\n",
      "2014-05-27 15:00:00  3406.0  3703.383545\n",
      "2014-05-27 16:00:00  3436.0  2435.313965\n",
      "2014-05-27 17:00:00  3485.0  3172.950684\n",
      "2014-05-27 18:00:00  3470.0  3376.388428\n",
      "2014-05-27 19:00:00  3447.0  3655.582031\n",
      "2014-05-27 20:00:00  3387.0  3122.312500\n",
      "2014-05-27 21:00:00  3133.0  2726.795898\n",
      "2014-05-27 22:00:00  2842.0  3990.827881\n",
      "2014-05-27 23:00:00  2592.0  2398.974609\n"
     ]
    },
    {
     "data": {
      "application/vnd.plotly.v1+json": {
       "config": {
        "plotlyServerURL": "https://plot.ly"
       },
       "data": [
        {
         "hovertemplate": "Values=load<br>timestamp=%{x}<br>Energy=%{y}<extra></extra>",
         "legendgroup": "load",
         "line": {
          "color": "#636efa",
          "dash": "solid"
         },
         "marker": {
          "symbol": "circle"
         },
         "mode": "lines",
         "name": "load",
         "orientation": "v",
         "showlegend": true,
         "type": "scatter",
         "x": [
          "2014-05-27T00:00:00.000000000",
          "2014-05-27T01:00:00.000000000",
          "2014-05-27T02:00:00.000000000",
          "2014-05-27T03:00:00.000000000",
          "2014-05-27T04:00:00.000000000",
          "2014-05-27T05:00:00.000000000",
          "2014-05-27T06:00:00.000000000",
          "2014-05-27T07:00:00.000000000",
          "2014-05-27T08:00:00.000000000",
          "2014-05-27T09:00:00.000000000",
          "2014-05-27T10:00:00.000000000",
          "2014-05-27T11:00:00.000000000",
          "2014-05-27T12:00:00.000000000",
          "2014-05-27T13:00:00.000000000",
          "2014-05-27T14:00:00.000000000",
          "2014-05-27T15:00:00.000000000",
          "2014-05-27T16:00:00.000000000",
          "2014-05-27T17:00:00.000000000",
          "2014-05-27T18:00:00.000000000",
          "2014-05-27T19:00:00.000000000",
          "2014-05-27T20:00:00.000000000",
          "2014-05-27T21:00:00.000000000",
          "2014-05-27T22:00:00.000000000",
          "2014-05-27T23:00:00.000000000"
         ],
         "xaxis": "x",
         "y": {
          "bdata": "AAAAAABOokAAAAAAAKahQAAAAAAAaKFAAAAAAACcoUAAAAAAAFqiQAAAAAAALKRAAAAAAACkp0AAAAAAAN6pQAAAAAAAVqpAAAAAAADsqkAAAAAAACirQAAAAAAARKtAAAAAAAAQq0AAAAAAAAqrQAAAAAAAwqpAAAAAAACcqkAAAAAAANiqQAAAAAAAOqtAAAAAAAAcq0AAAAAAAO6qQAAAAAAAdqpAAAAAAAB6qEAAAAAAADSmQAAAAAAAQKRA",
          "dtype": "f8"
         },
         "yaxis": "y"
        },
        {
         "hovertemplate": "Values=y_pred<br>timestamp=%{x}<br>Energy=%{y}<extra></extra>",
         "legendgroup": "y_pred",
         "line": {
          "color": "#EF553B",
          "dash": "solid"
         },
         "marker": {
          "symbol": "circle"
         },
         "mode": "lines",
         "name": "y_pred",
         "orientation": "v",
         "showlegend": true,
         "type": "scatter",
         "x": [
          "2014-05-27T00:00:00.000000000",
          "2014-05-27T01:00:00.000000000",
          "2014-05-27T02:00:00.000000000",
          "2014-05-27T03:00:00.000000000",
          "2014-05-27T04:00:00.000000000",
          "2014-05-27T05:00:00.000000000",
          "2014-05-27T06:00:00.000000000",
          "2014-05-27T07:00:00.000000000",
          "2014-05-27T08:00:00.000000000",
          "2014-05-27T09:00:00.000000000",
          "2014-05-27T10:00:00.000000000",
          "2014-05-27T11:00:00.000000000",
          "2014-05-27T12:00:00.000000000",
          "2014-05-27T13:00:00.000000000",
          "2014-05-27T14:00:00.000000000",
          "2014-05-27T15:00:00.000000000",
          "2014-05-27T16:00:00.000000000",
          "2014-05-27T17:00:00.000000000",
          "2014-05-27T18:00:00.000000000",
          "2014-05-27T19:00:00.000000000",
          "2014-05-27T20:00:00.000000000",
          "2014-05-27T21:00:00.000000000",
          "2014-05-27T22:00:00.000000000",
          "2014-05-27T23:00:00.000000000"
         ],
         "xaxis": "x",
         "y": {
          "bdata": "AAAAYLEro0AAAAAAO0eiQAAAAEBBi6pAAAAAYNJ5rEAAAADg17OrQAAAACBaOKxAAAAAoNwTqUAAAAAAGKyhQAAAAMCEPq5AAAAAwKdqr0AAAADANEmiQAAAAEC3BqpAAAAAgA1cpEAAAADggmWuQAAAACBLN6pAAAAAYMTurEAAAADAoAajQAAAAMDmyahAAAAA4MZgqkAAAAAAKo+sQAAAAACgZKhAAAAAgJdNpUAAAADgpy2vQAAAAADzvaJA",
          "dtype": "f8"
         },
         "yaxis": "y"
        }
       ],
       "layout": {
        "legend": {
         "title": {
          "text": "Values"
         },
         "tracegroupgap": 0
        },
        "template": {
         "data": {
          "bar": [
           {
            "error_x": {
             "color": "#f2f5fa"
            },
            "error_y": {
             "color": "#f2f5fa"
            },
            "marker": {
             "line": {
              "color": "rgb(17,17,17)",
              "width": 0.5
             },
             "pattern": {
              "fillmode": "overlay",
              "size": 10,
              "solidity": 0.2
             }
            },
            "type": "bar"
           }
          ],
          "barpolar": [
           {
            "marker": {
             "line": {
              "color": "rgb(17,17,17)",
              "width": 0.5
             },
             "pattern": {
              "fillmode": "overlay",
              "size": 10,
              "solidity": 0.2
             }
            },
            "type": "barpolar"
           }
          ],
          "carpet": [
           {
            "aaxis": {
             "endlinecolor": "#A2B1C6",
             "gridcolor": "#506784",
             "linecolor": "#506784",
             "minorgridcolor": "#506784",
             "startlinecolor": "#A2B1C6"
            },
            "baxis": {
             "endlinecolor": "#A2B1C6",
             "gridcolor": "#506784",
             "linecolor": "#506784",
             "minorgridcolor": "#506784",
             "startlinecolor": "#A2B1C6"
            },
            "type": "carpet"
           }
          ],
          "choropleth": [
           {
            "colorbar": {
             "outlinewidth": 0,
             "ticks": ""
            },
            "type": "choropleth"
           }
          ],
          "contour": [
           {
            "colorbar": {
             "outlinewidth": 0,
             "ticks": ""
            },
            "colorscale": [
             [
              0,
              "#0d0887"
             ],
             [
              0.1111111111111111,
              "#46039f"
             ],
             [
              0.2222222222222222,
              "#7201a8"
             ],
             [
              0.3333333333333333,
              "#9c179e"
             ],
             [
              0.4444444444444444,
              "#bd3786"
             ],
             [
              0.5555555555555556,
              "#d8576b"
             ],
             [
              0.6666666666666666,
              "#ed7953"
             ],
             [
              0.7777777777777778,
              "#fb9f3a"
             ],
             [
              0.8888888888888888,
              "#fdca26"
             ],
             [
              1,
              "#f0f921"
             ]
            ],
            "type": "contour"
           }
          ],
          "contourcarpet": [
           {
            "colorbar": {
             "outlinewidth": 0,
             "ticks": ""
            },
            "type": "contourcarpet"
           }
          ],
          "heatmap": [
           {
            "colorbar": {
             "outlinewidth": 0,
             "ticks": ""
            },
            "colorscale": [
             [
              0,
              "#0d0887"
             ],
             [
              0.1111111111111111,
              "#46039f"
             ],
             [
              0.2222222222222222,
              "#7201a8"
             ],
             [
              0.3333333333333333,
              "#9c179e"
             ],
             [
              0.4444444444444444,
              "#bd3786"
             ],
             [
              0.5555555555555556,
              "#d8576b"
             ],
             [
              0.6666666666666666,
              "#ed7953"
             ],
             [
              0.7777777777777778,
              "#fb9f3a"
             ],
             [
              0.8888888888888888,
              "#fdca26"
             ],
             [
              1,
              "#f0f921"
             ]
            ],
            "type": "heatmap"
           }
          ],
          "histogram": [
           {
            "marker": {
             "pattern": {
              "fillmode": "overlay",
              "size": 10,
              "solidity": 0.2
             }
            },
            "type": "histogram"
           }
          ],
          "histogram2d": [
           {
            "colorbar": {
             "outlinewidth": 0,
             "ticks": ""
            },
            "colorscale": [
             [
              0,
              "#0d0887"
             ],
             [
              0.1111111111111111,
              "#46039f"
             ],
             [
              0.2222222222222222,
              "#7201a8"
             ],
             [
              0.3333333333333333,
              "#9c179e"
             ],
             [
              0.4444444444444444,
              "#bd3786"
             ],
             [
              0.5555555555555556,
              "#d8576b"
             ],
             [
              0.6666666666666666,
              "#ed7953"
             ],
             [
              0.7777777777777778,
              "#fb9f3a"
             ],
             [
              0.8888888888888888,
              "#fdca26"
             ],
             [
              1,
              "#f0f921"
             ]
            ],
            "type": "histogram2d"
           }
          ],
          "histogram2dcontour": [
           {
            "colorbar": {
             "outlinewidth": 0,
             "ticks": ""
            },
            "colorscale": [
             [
              0,
              "#0d0887"
             ],
             [
              0.1111111111111111,
              "#46039f"
             ],
             [
              0.2222222222222222,
              "#7201a8"
             ],
             [
              0.3333333333333333,
              "#9c179e"
             ],
             [
              0.4444444444444444,
              "#bd3786"
             ],
             [
              0.5555555555555556,
              "#d8576b"
             ],
             [
              0.6666666666666666,
              "#ed7953"
             ],
             [
              0.7777777777777778,
              "#fb9f3a"
             ],
             [
              0.8888888888888888,
              "#fdca26"
             ],
             [
              1,
              "#f0f921"
             ]
            ],
            "type": "histogram2dcontour"
           }
          ],
          "mesh3d": [
           {
            "colorbar": {
             "outlinewidth": 0,
             "ticks": ""
            },
            "type": "mesh3d"
           }
          ],
          "parcoords": [
           {
            "line": {
             "colorbar": {
              "outlinewidth": 0,
              "ticks": ""
             }
            },
            "type": "parcoords"
           }
          ],
          "pie": [
           {
            "automargin": true,
            "type": "pie"
           }
          ],
          "scatter": [
           {
            "marker": {
             "line": {
              "color": "#283442"
             }
            },
            "type": "scatter"
           }
          ],
          "scatter3d": [
           {
            "line": {
             "colorbar": {
              "outlinewidth": 0,
              "ticks": ""
             }
            },
            "marker": {
             "colorbar": {
              "outlinewidth": 0,
              "ticks": ""
             }
            },
            "type": "scatter3d"
           }
          ],
          "scattercarpet": [
           {
            "marker": {
             "colorbar": {
              "outlinewidth": 0,
              "ticks": ""
             }
            },
            "type": "scattercarpet"
           }
          ],
          "scattergeo": [
           {
            "marker": {
             "colorbar": {
              "outlinewidth": 0,
              "ticks": ""
             }
            },
            "type": "scattergeo"
           }
          ],
          "scattergl": [
           {
            "marker": {
             "line": {
              "color": "#283442"
             }
            },
            "type": "scattergl"
           }
          ],
          "scattermap": [
           {
            "marker": {
             "colorbar": {
              "outlinewidth": 0,
              "ticks": ""
             }
            },
            "type": "scattermap"
           }
          ],
          "scattermapbox": [
           {
            "marker": {
             "colorbar": {
              "outlinewidth": 0,
              "ticks": ""
             }
            },
            "type": "scattermapbox"
           }
          ],
          "scatterpolar": [
           {
            "marker": {
             "colorbar": {
              "outlinewidth": 0,
              "ticks": ""
             }
            },
            "type": "scatterpolar"
           }
          ],
          "scatterpolargl": [
           {
            "marker": {
             "colorbar": {
              "outlinewidth": 0,
              "ticks": ""
             }
            },
            "type": "scatterpolargl"
           }
          ],
          "scatterternary": [
           {
            "marker": {
             "colorbar": {
              "outlinewidth": 0,
              "ticks": ""
             }
            },
            "type": "scatterternary"
           }
          ],
          "surface": [
           {
            "colorbar": {
             "outlinewidth": 0,
             "ticks": ""
            },
            "colorscale": [
             [
              0,
              "#0d0887"
             ],
             [
              0.1111111111111111,
              "#46039f"
             ],
             [
              0.2222222222222222,
              "#7201a8"
             ],
             [
              0.3333333333333333,
              "#9c179e"
             ],
             [
              0.4444444444444444,
              "#bd3786"
             ],
             [
              0.5555555555555556,
              "#d8576b"
             ],
             [
              0.6666666666666666,
              "#ed7953"
             ],
             [
              0.7777777777777778,
              "#fb9f3a"
             ],
             [
              0.8888888888888888,
              "#fdca26"
             ],
             [
              1,
              "#f0f921"
             ]
            ],
            "type": "surface"
           }
          ],
          "table": [
           {
            "cells": {
             "fill": {
              "color": "#506784"
             },
             "line": {
              "color": "rgb(17,17,17)"
             }
            },
            "header": {
             "fill": {
              "color": "#2a3f5f"
             },
             "line": {
              "color": "rgb(17,17,17)"
             }
            },
            "type": "table"
           }
          ]
         },
         "layout": {
          "annotationdefaults": {
           "arrowcolor": "#f2f5fa",
           "arrowhead": 0,
           "arrowwidth": 1
          },
          "autotypenumbers": "strict",
          "coloraxis": {
           "colorbar": {
            "outlinewidth": 0,
            "ticks": ""
           }
          },
          "colorscale": {
           "diverging": [
            [
             0,
             "#8e0152"
            ],
            [
             0.1,
             "#c51b7d"
            ],
            [
             0.2,
             "#de77ae"
            ],
            [
             0.3,
             "#f1b6da"
            ],
            [
             0.4,
             "#fde0ef"
            ],
            [
             0.5,
             "#f7f7f7"
            ],
            [
             0.6,
             "#e6f5d0"
            ],
            [
             0.7,
             "#b8e186"
            ],
            [
             0.8,
             "#7fbc41"
            ],
            [
             0.9,
             "#4d9221"
            ],
            [
             1,
             "#276419"
            ]
           ],
           "sequential": [
            [
             0,
             "#0d0887"
            ],
            [
             0.1111111111111111,
             "#46039f"
            ],
            [
             0.2222222222222222,
             "#7201a8"
            ],
            [
             0.3333333333333333,
             "#9c179e"
            ],
            [
             0.4444444444444444,
             "#bd3786"
            ],
            [
             0.5555555555555556,
             "#d8576b"
            ],
            [
             0.6666666666666666,
             "#ed7953"
            ],
            [
             0.7777777777777778,
             "#fb9f3a"
            ],
            [
             0.8888888888888888,
             "#fdca26"
            ],
            [
             1,
             "#f0f921"
            ]
           ],
           "sequentialminus": [
            [
             0,
             "#0d0887"
            ],
            [
             0.1111111111111111,
             "#46039f"
            ],
            [
             0.2222222222222222,
             "#7201a8"
            ],
            [
             0.3333333333333333,
             "#9c179e"
            ],
            [
             0.4444444444444444,
             "#bd3786"
            ],
            [
             0.5555555555555556,
             "#d8576b"
            ],
            [
             0.6666666666666666,
             "#ed7953"
            ],
            [
             0.7777777777777778,
             "#fb9f3a"
            ],
            [
             0.8888888888888888,
             "#fdca26"
            ],
            [
             1,
             "#f0f921"
            ]
           ]
          },
          "colorway": [
           "#636efa",
           "#EF553B",
           "#00cc96",
           "#ab63fa",
           "#FFA15A",
           "#19d3f3",
           "#FF6692",
           "#B6E880",
           "#FF97FF",
           "#FECB52"
          ],
          "font": {
           "color": "#f2f5fa"
          },
          "geo": {
           "bgcolor": "rgb(17,17,17)",
           "lakecolor": "rgb(17,17,17)",
           "landcolor": "rgb(17,17,17)",
           "showlakes": true,
           "showland": true,
           "subunitcolor": "#506784"
          },
          "hoverlabel": {
           "align": "left"
          },
          "hovermode": "closest",
          "mapbox": {
           "style": "dark"
          },
          "paper_bgcolor": "rgb(17,17,17)",
          "plot_bgcolor": "rgb(17,17,17)",
          "polar": {
           "angularaxis": {
            "gridcolor": "#506784",
            "linecolor": "#506784",
            "ticks": ""
           },
           "bgcolor": "rgb(17,17,17)",
           "radialaxis": {
            "gridcolor": "#506784",
            "linecolor": "#506784",
            "ticks": ""
           }
          },
          "scene": {
           "xaxis": {
            "backgroundcolor": "rgb(17,17,17)",
            "gridcolor": "#506784",
            "gridwidth": 2,
            "linecolor": "#506784",
            "showbackground": true,
            "ticks": "",
            "zerolinecolor": "#C8D4E3"
           },
           "yaxis": {
            "backgroundcolor": "rgb(17,17,17)",
            "gridcolor": "#506784",
            "gridwidth": 2,
            "linecolor": "#506784",
            "showbackground": true,
            "ticks": "",
            "zerolinecolor": "#C8D4E3"
           },
           "zaxis": {
            "backgroundcolor": "rgb(17,17,17)",
            "gridcolor": "#506784",
            "gridwidth": 2,
            "linecolor": "#506784",
            "showbackground": true,
            "ticks": "",
            "zerolinecolor": "#C8D4E3"
           }
          },
          "shapedefaults": {
           "line": {
            "color": "#f2f5fa"
           }
          },
          "sliderdefaults": {
           "bgcolor": "#C8D4E3",
           "bordercolor": "rgb(17,17,17)",
           "borderwidth": 1,
           "tickwidth": 0
          },
          "ternary": {
           "aaxis": {
            "gridcolor": "#506784",
            "linecolor": "#506784",
            "ticks": ""
           },
           "baxis": {
            "gridcolor": "#506784",
            "linecolor": "#506784",
            "ticks": ""
           },
           "bgcolor": "rgb(17,17,17)",
           "caxis": {
            "gridcolor": "#506784",
            "linecolor": "#506784",
            "ticks": ""
           }
          },
          "title": {
           "x": 0.05
          },
          "updatemenudefaults": {
           "bgcolor": "#506784",
           "borderwidth": 0
          },
          "xaxis": {
           "automargin": true,
           "gridcolor": "#283442",
           "linecolor": "#506784",
           "ticks": "",
           "title": {
            "standoff": 15
           },
           "zerolinecolor": "#283442",
           "zerolinewidth": 2
          },
          "yaxis": {
           "automargin": true,
           "gridcolor": "#283442",
           "linecolor": "#506784",
           "ticks": "",
           "title": {
            "standoff": 15
           },
           "zerolinecolor": "#283442",
           "zerolinewidth": 2
          }
         }
        },
        "title": {
         "text": "Feedforward Neural Network Forecast RMSE: 62.272"
        },
        "xaxis": {
         "anchor": "y",
         "domain": [
          0,
          1
         ],
         "title": {
          "text": "timestamp"
         }
        },
        "yaxis": {
         "anchor": "x",
         "domain": [
          0,
          1
         ],
         "title": {
          "text": "Energy"
         }
        }
       }
      }
     },
     "metadata": {},
     "output_type": "display_data"
    }
   ],
   "source": [
    "df_test = df.tail(X_test.shape[0]).copy()\n",
    "df_test['y_pred'] = y_pred.flatten()\n",
    "df_test = df_test.head(24)\n",
    "print(df_test)\n",
    "fig = px.line(df_test, x = df_test.index, y= ['load', 'y_pred'],\n",
    "            labels={'value': 'Energy', 'variable': 'Values'},\n",
    "            title=f'Feedforward Neural Network Forecast RMSE: {rmse:.3f}')\n",
    "fig.show()"
   ]
  }
 ],
 "metadata": {
  "kernelspec": {
   "display_name": "Python 3",
   "language": "python",
   "name": "python3"
  },
  "language_info": {
   "codemirror_mode": {
    "name": "ipython",
    "version": 3
   },
   "file_extension": ".py",
   "mimetype": "text/x-python",
   "name": "python",
   "nbconvert_exporter": "python",
   "pygments_lexer": "ipython3",
   "version": "3.12.6"
  }
 },
 "nbformat": 4,
 "nbformat_minor": 5
}
