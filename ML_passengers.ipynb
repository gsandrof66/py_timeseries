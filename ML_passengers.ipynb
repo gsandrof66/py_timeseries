{
 "cells": [
  {
   "cell_type": "markdown",
   "id": "d7b9927c",
   "metadata": {},
   "source": [
    "# Load data"
   ]
  },
  {
   "cell_type": "code",
   "execution_count": 1,
   "id": "e4e40cc4",
   "metadata": {},
   "outputs": [],
   "source": [
    "import pandas as pd\n",
    "import numpy as np\n",
    "import matplotlib.pyplot as plt\n",
    "\n",
    "from sklearn.metrics import mean_squared_error   # para calcular el error cuadratico medio\n",
    "from math import sqrt\n",
    "\n",
    "import plotly.express as px\n",
    "import plotly.graph_objects as go\n",
    "from plotly.subplots import make_subplots\n",
    "import plotly.io as pio # settings like template by default\n",
    "\n",
    "pio.templates.default = 'plotly_dark' # default template\n",
    "\n",
    "# Modelos de ML\n",
    "from sklearn.ensemble import RandomForestRegressor\n",
    "from sklearn.neighbors import KNeighborsRegressor\n",
    "from sklearn.linear_model import LinearRegression"
   ]
  },
  {
   "cell_type": "code",
   "execution_count": 3,
   "id": "d1302085",
   "metadata": {},
   "outputs": [
    {
     "name": "stdout",
     "output_type": "stream",
     "text": [
      "Size data: (144, 1)\n"
     ]
    },
    {
     "data": {
      "text/html": [
       "<div>\n",
       "<style scoped>\n",
       "    .dataframe tbody tr th:only-of-type {\n",
       "        vertical-align: middle;\n",
       "    }\n",
       "\n",
       "    .dataframe tbody tr th {\n",
       "        vertical-align: top;\n",
       "    }\n",
       "\n",
       "    .dataframe thead th {\n",
       "        text-align: right;\n",
       "    }\n",
       "</style>\n",
       "<table border=\"1\" class=\"dataframe\">\n",
       "  <thead>\n",
       "    <tr style=\"text-align: right;\">\n",
       "      <th></th>\n",
       "      <th>Passengers</th>\n",
       "    </tr>\n",
       "    <tr>\n",
       "      <th>Month</th>\n",
       "      <th></th>\n",
       "    </tr>\n",
       "  </thead>\n",
       "  <tbody>\n",
       "    <tr>\n",
       "      <th>1949-01-01</th>\n",
       "      <td>112</td>\n",
       "    </tr>\n",
       "    <tr>\n",
       "      <th>1949-02-01</th>\n",
       "      <td>118</td>\n",
       "    </tr>\n",
       "    <tr>\n",
       "      <th>1949-03-01</th>\n",
       "      <td>132</td>\n",
       "    </tr>\n",
       "  </tbody>\n",
       "</table>\n",
       "</div>"
      ],
      "text/plain": [
       "            Passengers\n",
       "Month                 \n",
       "1949-01-01         112\n",
       "1949-02-01         118\n",
       "1949-03-01         132"
      ]
     },
     "execution_count": 3,
     "metadata": {},
     "output_type": "execute_result"
    }
   ],
   "source": [
    "df = pd.read_csv('data/airline-passengers.csv', header=0, index_col=0, parse_dates=True)\n",
    "print(f\"Size data: {df.shape}\")\n",
    "df.head(3)"
   ]
  },
  {
   "cell_type": "code",
   "execution_count": 5,
   "id": "08078d7c",
   "metadata": {},
   "outputs": [
    {
     "data": {
      "application/vnd.plotly.v1+json": {
       "config": {
        "plotlyServerURL": "https://plot.ly"
       },
       "data": [
        {
         "hovertemplate": "Month=%{x}<br>Passengers=%{y}<extra></extra>",
         "legendgroup": "",
         "line": {
          "color": "#636efa",
          "dash": "solid"
         },
         "marker": {
          "symbol": "circle"
         },
         "mode": "lines",
         "name": "",
         "orientation": "v",
         "showlegend": false,
         "type": "scatter",
         "x": [
          "1949-01-01T00:00:00.000000000",
          "1949-02-01T00:00:00.000000000",
          "1949-03-01T00:00:00.000000000",
          "1949-04-01T00:00:00.000000000",
          "1949-05-01T00:00:00.000000000",
          "1949-06-01T00:00:00.000000000",
          "1949-07-01T00:00:00.000000000",
          "1949-08-01T00:00:00.000000000",
          "1949-09-01T00:00:00.000000000",
          "1949-10-01T00:00:00.000000000",
          "1949-11-01T00:00:00.000000000",
          "1949-12-01T00:00:00.000000000",
          "1950-01-01T00:00:00.000000000",
          "1950-02-01T00:00:00.000000000",
          "1950-03-01T00:00:00.000000000",
          "1950-04-01T00:00:00.000000000",
          "1950-05-01T00:00:00.000000000",
          "1950-06-01T00:00:00.000000000",
          "1950-07-01T00:00:00.000000000",
          "1950-08-01T00:00:00.000000000",
          "1950-09-01T00:00:00.000000000",
          "1950-10-01T00:00:00.000000000",
          "1950-11-01T00:00:00.000000000",
          "1950-12-01T00:00:00.000000000",
          "1951-01-01T00:00:00.000000000",
          "1951-02-01T00:00:00.000000000",
          "1951-03-01T00:00:00.000000000",
          "1951-04-01T00:00:00.000000000",
          "1951-05-01T00:00:00.000000000",
          "1951-06-01T00:00:00.000000000",
          "1951-07-01T00:00:00.000000000",
          "1951-08-01T00:00:00.000000000",
          "1951-09-01T00:00:00.000000000",
          "1951-10-01T00:00:00.000000000",
          "1951-11-01T00:00:00.000000000",
          "1951-12-01T00:00:00.000000000",
          "1952-01-01T00:00:00.000000000",
          "1952-02-01T00:00:00.000000000",
          "1952-03-01T00:00:00.000000000",
          "1952-04-01T00:00:00.000000000",
          "1952-05-01T00:00:00.000000000",
          "1952-06-01T00:00:00.000000000",
          "1952-07-01T00:00:00.000000000",
          "1952-08-01T00:00:00.000000000",
          "1952-09-01T00:00:00.000000000",
          "1952-10-01T00:00:00.000000000",
          "1952-11-01T00:00:00.000000000",
          "1952-12-01T00:00:00.000000000",
          "1953-01-01T00:00:00.000000000",
          "1953-02-01T00:00:00.000000000",
          "1953-03-01T00:00:00.000000000",
          "1953-04-01T00:00:00.000000000",
          "1953-05-01T00:00:00.000000000",
          "1953-06-01T00:00:00.000000000",
          "1953-07-01T00:00:00.000000000",
          "1953-08-01T00:00:00.000000000",
          "1953-09-01T00:00:00.000000000",
          "1953-10-01T00:00:00.000000000",
          "1953-11-01T00:00:00.000000000",
          "1953-12-01T00:00:00.000000000",
          "1954-01-01T00:00:00.000000000",
          "1954-02-01T00:00:00.000000000",
          "1954-03-01T00:00:00.000000000",
          "1954-04-01T00:00:00.000000000",
          "1954-05-01T00:00:00.000000000",
          "1954-06-01T00:00:00.000000000",
          "1954-07-01T00:00:00.000000000",
          "1954-08-01T00:00:00.000000000",
          "1954-09-01T00:00:00.000000000",
          "1954-10-01T00:00:00.000000000",
          "1954-11-01T00:00:00.000000000",
          "1954-12-01T00:00:00.000000000",
          "1955-01-01T00:00:00.000000000",
          "1955-02-01T00:00:00.000000000",
          "1955-03-01T00:00:00.000000000",
          "1955-04-01T00:00:00.000000000",
          "1955-05-01T00:00:00.000000000",
          "1955-06-01T00:00:00.000000000",
          "1955-07-01T00:00:00.000000000",
          "1955-08-01T00:00:00.000000000",
          "1955-09-01T00:00:00.000000000",
          "1955-10-01T00:00:00.000000000",
          "1955-11-01T00:00:00.000000000",
          "1955-12-01T00:00:00.000000000",
          "1956-01-01T00:00:00.000000000",
          "1956-02-01T00:00:00.000000000",
          "1956-03-01T00:00:00.000000000",
          "1956-04-01T00:00:00.000000000",
          "1956-05-01T00:00:00.000000000",
          "1956-06-01T00:00:00.000000000",
          "1956-07-01T00:00:00.000000000",
          "1956-08-01T00:00:00.000000000",
          "1956-09-01T00:00:00.000000000",
          "1956-10-01T00:00:00.000000000",
          "1956-11-01T00:00:00.000000000",
          "1956-12-01T00:00:00.000000000",
          "1957-01-01T00:00:00.000000000",
          "1957-02-01T00:00:00.000000000",
          "1957-03-01T00:00:00.000000000",
          "1957-04-01T00:00:00.000000000",
          "1957-05-01T00:00:00.000000000",
          "1957-06-01T00:00:00.000000000",
          "1957-07-01T00:00:00.000000000",
          "1957-08-01T00:00:00.000000000",
          "1957-09-01T00:00:00.000000000",
          "1957-10-01T00:00:00.000000000",
          "1957-11-01T00:00:00.000000000",
          "1957-12-01T00:00:00.000000000",
          "1958-01-01T00:00:00.000000000",
          "1958-02-01T00:00:00.000000000",
          "1958-03-01T00:00:00.000000000",
          "1958-04-01T00:00:00.000000000",
          "1958-05-01T00:00:00.000000000",
          "1958-06-01T00:00:00.000000000",
          "1958-07-01T00:00:00.000000000",
          "1958-08-01T00:00:00.000000000",
          "1958-09-01T00:00:00.000000000",
          "1958-10-01T00:00:00.000000000",
          "1958-11-01T00:00:00.000000000",
          "1958-12-01T00:00:00.000000000",
          "1959-01-01T00:00:00.000000000",
          "1959-02-01T00:00:00.000000000",
          "1959-03-01T00:00:00.000000000",
          "1959-04-01T00:00:00.000000000",
          "1959-05-01T00:00:00.000000000",
          "1959-06-01T00:00:00.000000000",
          "1959-07-01T00:00:00.000000000",
          "1959-08-01T00:00:00.000000000",
          "1959-09-01T00:00:00.000000000",
          "1959-10-01T00:00:00.000000000",
          "1959-11-01T00:00:00.000000000",
          "1959-12-01T00:00:00.000000000",
          "1960-01-01T00:00:00.000000000",
          "1960-02-01T00:00:00.000000000",
          "1960-03-01T00:00:00.000000000",
          "1960-04-01T00:00:00.000000000",
          "1960-05-01T00:00:00.000000000",
          "1960-06-01T00:00:00.000000000",
          "1960-07-01T00:00:00.000000000",
          "1960-08-01T00:00:00.000000000",
          "1960-09-01T00:00:00.000000000",
          "1960-10-01T00:00:00.000000000",
          "1960-11-01T00:00:00.000000000",
          "1960-12-01T00:00:00.000000000"
         ],
         "xaxis": "x",
         "y": {
          "bdata": "cAB2AIQAgQB5AIcAlACUAIgAdwBoAHYAcwB+AI0AhwB9AJUAqgCqAJ4AhQByAIwAkQCWALIAowCsALIAxwDHALgAogCSAKYAqwC0AMEAtQC3ANoA5gDyANEAvwCsAMIAxADEAOwA6wDlAPMACAEQAe0A0wC0AMkAzAC8AOsA4wDqAAgBLgElAQMB5QDLAOUA8gDpAAsBDQEOATsBbAFbATgBEgHtABYBHAEVAT0BOQE+AXYBnQGVAWMBMgEPATIBOwEtAWQBXAFjAaYB0QHTAZQBWwExAVABVAE+AWoBXAFrAbMB6wH5AZQBZwE2AVEBaAFWAZYBjAGkAdgBJAIvAs8BlwFqAZUBoQGHAaMBzQHYARcCbgJeAvwBzQGGAbAB",
          "dtype": "i2"
         },
         "yaxis": "y"
        }
       ],
       "layout": {
        "legend": {
         "tracegroupgap": 0
        },
        "margin": {
         "t": 60
        },
        "template": {
         "data": {
          "bar": [
           {
            "error_x": {
             "color": "#f2f5fa"
            },
            "error_y": {
             "color": "#f2f5fa"
            },
            "marker": {
             "line": {
              "color": "rgb(17,17,17)",
              "width": 0.5
             },
             "pattern": {
              "fillmode": "overlay",
              "size": 10,
              "solidity": 0.2
             }
            },
            "type": "bar"
           }
          ],
          "barpolar": [
           {
            "marker": {
             "line": {
              "color": "rgb(17,17,17)",
              "width": 0.5
             },
             "pattern": {
              "fillmode": "overlay",
              "size": 10,
              "solidity": 0.2
             }
            },
            "type": "barpolar"
           }
          ],
          "carpet": [
           {
            "aaxis": {
             "endlinecolor": "#A2B1C6",
             "gridcolor": "#506784",
             "linecolor": "#506784",
             "minorgridcolor": "#506784",
             "startlinecolor": "#A2B1C6"
            },
            "baxis": {
             "endlinecolor": "#A2B1C6",
             "gridcolor": "#506784",
             "linecolor": "#506784",
             "minorgridcolor": "#506784",
             "startlinecolor": "#A2B1C6"
            },
            "type": "carpet"
           }
          ],
          "choropleth": [
           {
            "colorbar": {
             "outlinewidth": 0,
             "ticks": ""
            },
            "type": "choropleth"
           }
          ],
          "contour": [
           {
            "colorbar": {
             "outlinewidth": 0,
             "ticks": ""
            },
            "colorscale": [
             [
              0,
              "#0d0887"
             ],
             [
              0.1111111111111111,
              "#46039f"
             ],
             [
              0.2222222222222222,
              "#7201a8"
             ],
             [
              0.3333333333333333,
              "#9c179e"
             ],
             [
              0.4444444444444444,
              "#bd3786"
             ],
             [
              0.5555555555555556,
              "#d8576b"
             ],
             [
              0.6666666666666666,
              "#ed7953"
             ],
             [
              0.7777777777777778,
              "#fb9f3a"
             ],
             [
              0.8888888888888888,
              "#fdca26"
             ],
             [
              1,
              "#f0f921"
             ]
            ],
            "type": "contour"
           }
          ],
          "contourcarpet": [
           {
            "colorbar": {
             "outlinewidth": 0,
             "ticks": ""
            },
            "type": "contourcarpet"
           }
          ],
          "heatmap": [
           {
            "colorbar": {
             "outlinewidth": 0,
             "ticks": ""
            },
            "colorscale": [
             [
              0,
              "#0d0887"
             ],
             [
              0.1111111111111111,
              "#46039f"
             ],
             [
              0.2222222222222222,
              "#7201a8"
             ],
             [
              0.3333333333333333,
              "#9c179e"
             ],
             [
              0.4444444444444444,
              "#bd3786"
             ],
             [
              0.5555555555555556,
              "#d8576b"
             ],
             [
              0.6666666666666666,
              "#ed7953"
             ],
             [
              0.7777777777777778,
              "#fb9f3a"
             ],
             [
              0.8888888888888888,
              "#fdca26"
             ],
             [
              1,
              "#f0f921"
             ]
            ],
            "type": "heatmap"
           }
          ],
          "histogram": [
           {
            "marker": {
             "pattern": {
              "fillmode": "overlay",
              "size": 10,
              "solidity": 0.2
             }
            },
            "type": "histogram"
           }
          ],
          "histogram2d": [
           {
            "colorbar": {
             "outlinewidth": 0,
             "ticks": ""
            },
            "colorscale": [
             [
              0,
              "#0d0887"
             ],
             [
              0.1111111111111111,
              "#46039f"
             ],
             [
              0.2222222222222222,
              "#7201a8"
             ],
             [
              0.3333333333333333,
              "#9c179e"
             ],
             [
              0.4444444444444444,
              "#bd3786"
             ],
             [
              0.5555555555555556,
              "#d8576b"
             ],
             [
              0.6666666666666666,
              "#ed7953"
             ],
             [
              0.7777777777777778,
              "#fb9f3a"
             ],
             [
              0.8888888888888888,
              "#fdca26"
             ],
             [
              1,
              "#f0f921"
             ]
            ],
            "type": "histogram2d"
           }
          ],
          "histogram2dcontour": [
           {
            "colorbar": {
             "outlinewidth": 0,
             "ticks": ""
            },
            "colorscale": [
             [
              0,
              "#0d0887"
             ],
             [
              0.1111111111111111,
              "#46039f"
             ],
             [
              0.2222222222222222,
              "#7201a8"
             ],
             [
              0.3333333333333333,
              "#9c179e"
             ],
             [
              0.4444444444444444,
              "#bd3786"
             ],
             [
              0.5555555555555556,
              "#d8576b"
             ],
             [
              0.6666666666666666,
              "#ed7953"
             ],
             [
              0.7777777777777778,
              "#fb9f3a"
             ],
             [
              0.8888888888888888,
              "#fdca26"
             ],
             [
              1,
              "#f0f921"
             ]
            ],
            "type": "histogram2dcontour"
           }
          ],
          "mesh3d": [
           {
            "colorbar": {
             "outlinewidth": 0,
             "ticks": ""
            },
            "type": "mesh3d"
           }
          ],
          "parcoords": [
           {
            "line": {
             "colorbar": {
              "outlinewidth": 0,
              "ticks": ""
             }
            },
            "type": "parcoords"
           }
          ],
          "pie": [
           {
            "automargin": true,
            "type": "pie"
           }
          ],
          "scatter": [
           {
            "marker": {
             "line": {
              "color": "#283442"
             }
            },
            "type": "scatter"
           }
          ],
          "scatter3d": [
           {
            "line": {
             "colorbar": {
              "outlinewidth": 0,
              "ticks": ""
             }
            },
            "marker": {
             "colorbar": {
              "outlinewidth": 0,
              "ticks": ""
             }
            },
            "type": "scatter3d"
           }
          ],
          "scattercarpet": [
           {
            "marker": {
             "colorbar": {
              "outlinewidth": 0,
              "ticks": ""
             }
            },
            "type": "scattercarpet"
           }
          ],
          "scattergeo": [
           {
            "marker": {
             "colorbar": {
              "outlinewidth": 0,
              "ticks": ""
             }
            },
            "type": "scattergeo"
           }
          ],
          "scattergl": [
           {
            "marker": {
             "line": {
              "color": "#283442"
             }
            },
            "type": "scattergl"
           }
          ],
          "scattermap": [
           {
            "marker": {
             "colorbar": {
              "outlinewidth": 0,
              "ticks": ""
             }
            },
            "type": "scattermap"
           }
          ],
          "scattermapbox": [
           {
            "marker": {
             "colorbar": {
              "outlinewidth": 0,
              "ticks": ""
             }
            },
            "type": "scattermapbox"
           }
          ],
          "scatterpolar": [
           {
            "marker": {
             "colorbar": {
              "outlinewidth": 0,
              "ticks": ""
             }
            },
            "type": "scatterpolar"
           }
          ],
          "scatterpolargl": [
           {
            "marker": {
             "colorbar": {
              "outlinewidth": 0,
              "ticks": ""
             }
            },
            "type": "scatterpolargl"
           }
          ],
          "scatterternary": [
           {
            "marker": {
             "colorbar": {
              "outlinewidth": 0,
              "ticks": ""
             }
            },
            "type": "scatterternary"
           }
          ],
          "surface": [
           {
            "colorbar": {
             "outlinewidth": 0,
             "ticks": ""
            },
            "colorscale": [
             [
              0,
              "#0d0887"
             ],
             [
              0.1111111111111111,
              "#46039f"
             ],
             [
              0.2222222222222222,
              "#7201a8"
             ],
             [
              0.3333333333333333,
              "#9c179e"
             ],
             [
              0.4444444444444444,
              "#bd3786"
             ],
             [
              0.5555555555555556,
              "#d8576b"
             ],
             [
              0.6666666666666666,
              "#ed7953"
             ],
             [
              0.7777777777777778,
              "#fb9f3a"
             ],
             [
              0.8888888888888888,
              "#fdca26"
             ],
             [
              1,
              "#f0f921"
             ]
            ],
            "type": "surface"
           }
          ],
          "table": [
           {
            "cells": {
             "fill": {
              "color": "#506784"
             },
             "line": {
              "color": "rgb(17,17,17)"
             }
            },
            "header": {
             "fill": {
              "color": "#2a3f5f"
             },
             "line": {
              "color": "rgb(17,17,17)"
             }
            },
            "type": "table"
           }
          ]
         },
         "layout": {
          "annotationdefaults": {
           "arrowcolor": "#f2f5fa",
           "arrowhead": 0,
           "arrowwidth": 1
          },
          "autotypenumbers": "strict",
          "coloraxis": {
           "colorbar": {
            "outlinewidth": 0,
            "ticks": ""
           }
          },
          "colorscale": {
           "diverging": [
            [
             0,
             "#8e0152"
            ],
            [
             0.1,
             "#c51b7d"
            ],
            [
             0.2,
             "#de77ae"
            ],
            [
             0.3,
             "#f1b6da"
            ],
            [
             0.4,
             "#fde0ef"
            ],
            [
             0.5,
             "#f7f7f7"
            ],
            [
             0.6,
             "#e6f5d0"
            ],
            [
             0.7,
             "#b8e186"
            ],
            [
             0.8,
             "#7fbc41"
            ],
            [
             0.9,
             "#4d9221"
            ],
            [
             1,
             "#276419"
            ]
           ],
           "sequential": [
            [
             0,
             "#0d0887"
            ],
            [
             0.1111111111111111,
             "#46039f"
            ],
            [
             0.2222222222222222,
             "#7201a8"
            ],
            [
             0.3333333333333333,
             "#9c179e"
            ],
            [
             0.4444444444444444,
             "#bd3786"
            ],
            [
             0.5555555555555556,
             "#d8576b"
            ],
            [
             0.6666666666666666,
             "#ed7953"
            ],
            [
             0.7777777777777778,
             "#fb9f3a"
            ],
            [
             0.8888888888888888,
             "#fdca26"
            ],
            [
             1,
             "#f0f921"
            ]
           ],
           "sequentialminus": [
            [
             0,
             "#0d0887"
            ],
            [
             0.1111111111111111,
             "#46039f"
            ],
            [
             0.2222222222222222,
             "#7201a8"
            ],
            [
             0.3333333333333333,
             "#9c179e"
            ],
            [
             0.4444444444444444,
             "#bd3786"
            ],
            [
             0.5555555555555556,
             "#d8576b"
            ],
            [
             0.6666666666666666,
             "#ed7953"
            ],
            [
             0.7777777777777778,
             "#fb9f3a"
            ],
            [
             0.8888888888888888,
             "#fdca26"
            ],
            [
             1,
             "#f0f921"
            ]
           ]
          },
          "colorway": [
           "#636efa",
           "#EF553B",
           "#00cc96",
           "#ab63fa",
           "#FFA15A",
           "#19d3f3",
           "#FF6692",
           "#B6E880",
           "#FF97FF",
           "#FECB52"
          ],
          "font": {
           "color": "#f2f5fa"
          },
          "geo": {
           "bgcolor": "rgb(17,17,17)",
           "lakecolor": "rgb(17,17,17)",
           "landcolor": "rgb(17,17,17)",
           "showlakes": true,
           "showland": true,
           "subunitcolor": "#506784"
          },
          "hoverlabel": {
           "align": "left"
          },
          "hovermode": "closest",
          "mapbox": {
           "style": "dark"
          },
          "paper_bgcolor": "rgb(17,17,17)",
          "plot_bgcolor": "rgb(17,17,17)",
          "polar": {
           "angularaxis": {
            "gridcolor": "#506784",
            "linecolor": "#506784",
            "ticks": ""
           },
           "bgcolor": "rgb(17,17,17)",
           "radialaxis": {
            "gridcolor": "#506784",
            "linecolor": "#506784",
            "ticks": ""
           }
          },
          "scene": {
           "xaxis": {
            "backgroundcolor": "rgb(17,17,17)",
            "gridcolor": "#506784",
            "gridwidth": 2,
            "linecolor": "#506784",
            "showbackground": true,
            "ticks": "",
            "zerolinecolor": "#C8D4E3"
           },
           "yaxis": {
            "backgroundcolor": "rgb(17,17,17)",
            "gridcolor": "#506784",
            "gridwidth": 2,
            "linecolor": "#506784",
            "showbackground": true,
            "ticks": "",
            "zerolinecolor": "#C8D4E3"
           },
           "zaxis": {
            "backgroundcolor": "rgb(17,17,17)",
            "gridcolor": "#506784",
            "gridwidth": 2,
            "linecolor": "#506784",
            "showbackground": true,
            "ticks": "",
            "zerolinecolor": "#C8D4E3"
           }
          },
          "shapedefaults": {
           "line": {
            "color": "#f2f5fa"
           }
          },
          "sliderdefaults": {
           "bgcolor": "#C8D4E3",
           "bordercolor": "rgb(17,17,17)",
           "borderwidth": 1,
           "tickwidth": 0
          },
          "ternary": {
           "aaxis": {
            "gridcolor": "#506784",
            "linecolor": "#506784",
            "ticks": ""
           },
           "baxis": {
            "gridcolor": "#506784",
            "linecolor": "#506784",
            "ticks": ""
           },
           "bgcolor": "rgb(17,17,17)",
           "caxis": {
            "gridcolor": "#506784",
            "linecolor": "#506784",
            "ticks": ""
           }
          },
          "title": {
           "x": 0.05
          },
          "updatemenudefaults": {
           "bgcolor": "#506784",
           "borderwidth": 0
          },
          "xaxis": {
           "automargin": true,
           "gridcolor": "#283442",
           "linecolor": "#506784",
           "ticks": "",
           "title": {
            "standoff": 15
           },
           "zerolinecolor": "#283442",
           "zerolinewidth": 2
          },
          "yaxis": {
           "automargin": true,
           "gridcolor": "#283442",
           "linecolor": "#506784",
           "ticks": "",
           "title": {
            "standoff": 15
           },
           "zerolinecolor": "#283442",
           "zerolinewidth": 2
          }
         }
        },
        "title": {
         "text": "<b>Time series passengers</b>"
        },
        "xaxis": {
         "anchor": "y",
         "domain": [
          0,
          1
         ],
         "title": {
          "text": "Date"
         }
        },
        "yaxis": {
         "anchor": "x",
         "domain": [
          0,
          1
         ],
         "title": {
          "text": "passengers"
         }
        }
       }
      }
     },
     "metadata": {},
     "output_type": "display_data"
    }
   ],
   "source": [
    "fig_area = px.line(df, x = df.index, y = 'Passengers')\n",
    "fig_area.update_layout(\n",
    "    title = \"<b>Time series passengers</b>\",\n",
    "    xaxis = dict(title='Date'), yaxis = dict(title='passengers')\n",
    ")\n",
    "fig_area.show()"
   ]
  },
  {
   "cell_type": "code",
   "execution_count": 8,
   "id": "e875132e",
   "metadata": {},
   "outputs": [],
   "source": [
    "def get_lag_features(serie, numlags):\n",
    "     if isinstance(serie, (np.ndarray)):  # si la serie es un array numpy \n",
    "        return serie[-numlags:].tolist()\n",
    "     else:  # if it is a list\n",
    "        return serie[-numlags:]"
   ]
  },
  {
   "cell_type": "code",
   "execution_count": 9,
   "id": "3061dd79",
   "metadata": {},
   "outputs": [
    {
     "name": "stdout",
     "output_type": "stream",
     "text": [
      "lags [112, 118, 132] current: 129\n",
      "lags [118, 132, 129] current: 121\n",
      "lags [132, 129, 121] current: 135\n",
      "lags [129, 121, 135] current: 148\n",
      "lags [121, 135, 148] current: 148\n",
      "lags [135, 148, 148] current: 136\n"
     ]
    }
   ],
   "source": [
    "serie = df.values   # obtiene los valores de la serie\n",
    "#serie = np.log(serie)  \n",
    "numlags = 3      # numero de atributos lag a obtener\n",
    "\n",
    "# construye la data para ML\n",
    "X = []   # variable donde colocara los atributos de entrada\n",
    "y = []   # variable objetivo \n",
    "for i in range(numlags, len(serie)):  \n",
    "    X.append( get_lag_features(serie[:i, 0], numlags) )\n",
    "    y.append(serie[i, 0])\n",
    "\n",
    "# Print values len(X)\n",
    "for i in range(6):\n",
    "    print(f\"lags {X[i]} current: {y[i]}\")"
   ]
  },
  {
   "cell_type": "markdown",
   "id": "c8d1c862",
   "metadata": {},
   "source": [
    "# Machine learning models"
   ]
  },
  {
   "cell_type": "code",
   "execution_count": 10,
   "id": "f30e9ae0",
   "metadata": {},
   "outputs": [],
   "source": [
    "def evaluate_MLmodels_lags(serie, numlags, train_fraction):\n",
    "    # split train/test\n",
    "    train_size = int(len(serie) * train_fraction)\n",
    "    train, test = serie[0:train_size], serie[train_size:]\n",
    "    \n",
    "    print(f\"size train: {train.shape}\")\n",
    "    print(f\"size test: {test.shape}\")\n",
    "    \n",
    "    X_train = []   # variable donde colocara los atributos de entrada\n",
    "    y_train = []   # variable target \n",
    "    for i in range(numlags, len(train)-1):  \n",
    "        X_train.append(get_lag_features(train[:i, 0], numlags))\n",
    "        y_train.append(train[i, 0])         \n",
    "\n",
    "    print(X_train)\n",
    "    print(y_train)\n",
    "\n",
    "    history = train.tolist()  # serie historica. Inicialmente es train    \n",
    "    predictionsRF = list()  # array para almacenar las predicciones de Random Forest (RF) en la serie de test\n",
    "    predictionsLR = list()  # array para almacenar las predicciones de Linear Regression (LR) en la serie de test\n",
    "    \n",
    "    # Evaluate in walk-forward ML models\n",
    "    for t in range(len(test)):\n",
    "        print(f'Training ML models to predict test {t}')\n",
    "    \n",
    "        # Random Forest \n",
    "        rf_model = RandomForestRegressor(n_estimators=100, n_jobs=-1, random_state=0) # 100 trees\n",
    "        print(X_train)\n",
    "        print(y_train)\n",
    "        rf_model.fit(X_train, y_train)\n",
    "    \n",
    "        # Linear regression\n",
    "        lr_model = LinearRegression(n_jobs=-1)\n",
    "        lr_model.fit(X_train, y_train)\n",
    "            \n",
    "        # Obtiene los atributos para hacer la prediccion del punto de test\n",
    "        X_test = get_lag_features(history, numlags)\n",
    "        print(X_test)\n",
    "        # Predict test and save it\n",
    "        y_RF = rf_model.predict([X_test])[0]\n",
    "        predictionsRF.append(y_RF)\n",
    "        \n",
    "        y_LR = lr_model.predict([X_test])[0]\n",
    "        predictionsLR.append(y_LR)\n",
    "    \n",
    "        # concatena el valor de test actual a la serie histórica. \n",
    "        history.append( test[t] ) \n",
    "        \n",
    "        # El ejemplo testado lo agrega a la data de entrenamiento para el siguiente entrenamiento\n",
    "        X_train.append(X_test)\n",
    "        y_train.append(test[t, 0])         \n",
    "    \n",
    "    # calcula e imprime el RMSE en test   \n",
    "    rmseRF = sqrt(mean_squared_error(test, predictionsRF))\n",
    "    rmseLR = sqrt(mean_squared_error(test, predictionsLR))\n",
    "    print('RMSE de Modelo RF con lag features = %.5f' % rmseRF)\n",
    "    print('RMSE de Modelo LR con lag features = %.5f' % rmseLR)\n",
    "    \n",
    "    # plotea las predicciones versus lo real\n",
    "    plt.plot(test, color='black')\n",
    "    plt.plot(predictionsRF, color='green')\n",
    "    plt.plot(predictionsLR, color='red')\n",
    "    plt.legend(['real', 'RF_prediccion', 'LR_prediccion'],  loc='upper left')\n",
    "    plt.show()"
   ]
  },
  {
   "cell_type": "code",
   "execution_count": 80,
   "id": "d2db9416",
   "metadata": {},
   "outputs": [
    {
     "name": "stdout",
     "output_type": "stream",
     "text": [
      "size train: (115, 1)\n",
      "size test: (29, 1)\n",
      "[[112, 118, 132, 129, 121, 135, 148, 148, 136, 119, 104, 118, 115], [118, 132, 129, 121, 135, 148, 148, 136, 119, 104, 118, 115, 126], [132, 129, 121, 135, 148, 148, 136, 119, 104, 118, 115, 126, 141], [129, 121, 135, 148, 148, 136, 119, 104, 118, 115, 126, 141, 135], [121, 135, 148, 148, 136, 119, 104, 118, 115, 126, 141, 135, 125], [135, 148, 148, 136, 119, 104, 118, 115, 126, 141, 135, 125, 149], [148, 148, 136, 119, 104, 118, 115, 126, 141, 135, 125, 149, 170], [148, 136, 119, 104, 118, 115, 126, 141, 135, 125, 149, 170, 170], [136, 119, 104, 118, 115, 126, 141, 135, 125, 149, 170, 170, 158], [119, 104, 118, 115, 126, 141, 135, 125, 149, 170, 170, 158, 133], [104, 118, 115, 126, 141, 135, 125, 149, 170, 170, 158, 133, 114], [118, 115, 126, 141, 135, 125, 149, 170, 170, 158, 133, 114, 140], [115, 126, 141, 135, 125, 149, 170, 170, 158, 133, 114, 140, 145], [126, 141, 135, 125, 149, 170, 170, 158, 133, 114, 140, 145, 150], [141, 135, 125, 149, 170, 170, 158, 133, 114, 140, 145, 150, 178], [135, 125, 149, 170, 170, 158, 133, 114, 140, 145, 150, 178, 163], [125, 149, 170, 170, 158, 133, 114, 140, 145, 150, 178, 163, 172], [149, 170, 170, 158, 133, 114, 140, 145, 150, 178, 163, 172, 178], [170, 170, 158, 133, 114, 140, 145, 150, 178, 163, 172, 178, 199], [170, 158, 133, 114, 140, 145, 150, 178, 163, 172, 178, 199, 199], [158, 133, 114, 140, 145, 150, 178, 163, 172, 178, 199, 199, 184], [133, 114, 140, 145, 150, 178, 163, 172, 178, 199, 199, 184, 162], [114, 140, 145, 150, 178, 163, 172, 178, 199, 199, 184, 162, 146], [140, 145, 150, 178, 163, 172, 178, 199, 199, 184, 162, 146, 166], [145, 150, 178, 163, 172, 178, 199, 199, 184, 162, 146, 166, 171], [150, 178, 163, 172, 178, 199, 199, 184, 162, 146, 166, 171, 180], [178, 163, 172, 178, 199, 199, 184, 162, 146, 166, 171, 180, 193], [163, 172, 178, 199, 199, 184, 162, 146, 166, 171, 180, 193, 181], [172, 178, 199, 199, 184, 162, 146, 166, 171, 180, 193, 181, 183], [178, 199, 199, 184, 162, 146, 166, 171, 180, 193, 181, 183, 218], [199, 199, 184, 162, 146, 166, 171, 180, 193, 181, 183, 218, 230], [199, 184, 162, 146, 166, 171, 180, 193, 181, 183, 218, 230, 242], [184, 162, 146, 166, 171, 180, 193, 181, 183, 218, 230, 242, 209], [162, 146, 166, 171, 180, 193, 181, 183, 218, 230, 242, 209, 191], [146, 166, 171, 180, 193, 181, 183, 218, 230, 242, 209, 191, 172], [166, 171, 180, 193, 181, 183, 218, 230, 242, 209, 191, 172, 194], [171, 180, 193, 181, 183, 218, 230, 242, 209, 191, 172, 194, 196], [180, 193, 181, 183, 218, 230, 242, 209, 191, 172, 194, 196, 196], [193, 181, 183, 218, 230, 242, 209, 191, 172, 194, 196, 196, 236], [181, 183, 218, 230, 242, 209, 191, 172, 194, 196, 196, 236, 235], [183, 218, 230, 242, 209, 191, 172, 194, 196, 196, 236, 235, 229], [218, 230, 242, 209, 191, 172, 194, 196, 196, 236, 235, 229, 243], [230, 242, 209, 191, 172, 194, 196, 196, 236, 235, 229, 243, 264], [242, 209, 191, 172, 194, 196, 196, 236, 235, 229, 243, 264, 272], [209, 191, 172, 194, 196, 196, 236, 235, 229, 243, 264, 272, 237], [191, 172, 194, 196, 196, 236, 235, 229, 243, 264, 272, 237, 211], [172, 194, 196, 196, 236, 235, 229, 243, 264, 272, 237, 211, 180], [194, 196, 196, 236, 235, 229, 243, 264, 272, 237, 211, 180, 201], [196, 196, 236, 235, 229, 243, 264, 272, 237, 211, 180, 201, 204], [196, 236, 235, 229, 243, 264, 272, 237, 211, 180, 201, 204, 188], [236, 235, 229, 243, 264, 272, 237, 211, 180, 201, 204, 188, 235], [235, 229, 243, 264, 272, 237, 211, 180, 201, 204, 188, 235, 227], [229, 243, 264, 272, 237, 211, 180, 201, 204, 188, 235, 227, 234], [243, 264, 272, 237, 211, 180, 201, 204, 188, 235, 227, 234, 264], [264, 272, 237, 211, 180, 201, 204, 188, 235, 227, 234, 264, 302], [272, 237, 211, 180, 201, 204, 188, 235, 227, 234, 264, 302, 293], [237, 211, 180, 201, 204, 188, 235, 227, 234, 264, 302, 293, 259], [211, 180, 201, 204, 188, 235, 227, 234, 264, 302, 293, 259, 229], [180, 201, 204, 188, 235, 227, 234, 264, 302, 293, 259, 229, 203], [201, 204, 188, 235, 227, 234, 264, 302, 293, 259, 229, 203, 229], [204, 188, 235, 227, 234, 264, 302, 293, 259, 229, 203, 229, 242], [188, 235, 227, 234, 264, 302, 293, 259, 229, 203, 229, 242, 233], [235, 227, 234, 264, 302, 293, 259, 229, 203, 229, 242, 233, 267], [227, 234, 264, 302, 293, 259, 229, 203, 229, 242, 233, 267, 269], [234, 264, 302, 293, 259, 229, 203, 229, 242, 233, 267, 269, 270], [264, 302, 293, 259, 229, 203, 229, 242, 233, 267, 269, 270, 315], [302, 293, 259, 229, 203, 229, 242, 233, 267, 269, 270, 315, 364], [293, 259, 229, 203, 229, 242, 233, 267, 269, 270, 315, 364, 347], [259, 229, 203, 229, 242, 233, 267, 269, 270, 315, 364, 347, 312], [229, 203, 229, 242, 233, 267, 269, 270, 315, 364, 347, 312, 274], [203, 229, 242, 233, 267, 269, 270, 315, 364, 347, 312, 274, 237], [229, 242, 233, 267, 269, 270, 315, 364, 347, 312, 274, 237, 278], [242, 233, 267, 269, 270, 315, 364, 347, 312, 274, 237, 278, 284], [233, 267, 269, 270, 315, 364, 347, 312, 274, 237, 278, 284, 277], [267, 269, 270, 315, 364, 347, 312, 274, 237, 278, 284, 277, 317], [269, 270, 315, 364, 347, 312, 274, 237, 278, 284, 277, 317, 313], [270, 315, 364, 347, 312, 274, 237, 278, 284, 277, 317, 313, 318], [315, 364, 347, 312, 274, 237, 278, 284, 277, 317, 313, 318, 374], [364, 347, 312, 274, 237, 278, 284, 277, 317, 313, 318, 374, 413], [347, 312, 274, 237, 278, 284, 277, 317, 313, 318, 374, 413, 405], [312, 274, 237, 278, 284, 277, 317, 313, 318, 374, 413, 405, 355], [274, 237, 278, 284, 277, 317, 313, 318, 374, 413, 405, 355, 306], [237, 278, 284, 277, 317, 313, 318, 374, 413, 405, 355, 306, 271], [278, 284, 277, 317, 313, 318, 374, 413, 405, 355, 306, 271, 306], [284, 277, 317, 313, 318, 374, 413, 405, 355, 306, 271, 306, 315], [277, 317, 313, 318, 374, 413, 405, 355, 306, 271, 306, 315, 301], [317, 313, 318, 374, 413, 405, 355, 306, 271, 306, 315, 301, 356], [313, 318, 374, 413, 405, 355, 306, 271, 306, 315, 301, 356, 348], [318, 374, 413, 405, 355, 306, 271, 306, 315, 301, 356, 348, 355], [374, 413, 405, 355, 306, 271, 306, 315, 301, 356, 348, 355, 422], [413, 405, 355, 306, 271, 306, 315, 301, 356, 348, 355, 422, 465], [405, 355, 306, 271, 306, 315, 301, 356, 348, 355, 422, 465, 467], [355, 306, 271, 306, 315, 301, 356, 348, 355, 422, 465, 467, 404], [306, 271, 306, 315, 301, 356, 348, 355, 422, 465, 467, 404, 347], [271, 306, 315, 301, 356, 348, 355, 422, 465, 467, 404, 347, 305], [306, 315, 301, 356, 348, 355, 422, 465, 467, 404, 347, 305, 336], [315, 301, 356, 348, 355, 422, 465, 467, 404, 347, 305, 336, 340], [301, 356, 348, 355, 422, 465, 467, 404, 347, 305, 336, 340, 318], [356, 348, 355, 422, 465, 467, 404, 347, 305, 336, 340, 318, 362], [348, 355, 422, 465, 467, 404, 347, 305, 336, 340, 318, 362, 348], [355, 422, 465, 467, 404, 347, 305, 336, 340, 318, 362, 348, 363]]\n",
      "[np.int64(126), np.int64(141), np.int64(135), np.int64(125), np.int64(149), np.int64(170), np.int64(170), np.int64(158), np.int64(133), np.int64(114), np.int64(140), np.int64(145), np.int64(150), np.int64(178), np.int64(163), np.int64(172), np.int64(178), np.int64(199), np.int64(199), np.int64(184), np.int64(162), np.int64(146), np.int64(166), np.int64(171), np.int64(180), np.int64(193), np.int64(181), np.int64(183), np.int64(218), np.int64(230), np.int64(242), np.int64(209), np.int64(191), np.int64(172), np.int64(194), np.int64(196), np.int64(196), np.int64(236), np.int64(235), np.int64(229), np.int64(243), np.int64(264), np.int64(272), np.int64(237), np.int64(211), np.int64(180), np.int64(201), np.int64(204), np.int64(188), np.int64(235), np.int64(227), np.int64(234), np.int64(264), np.int64(302), np.int64(293), np.int64(259), np.int64(229), np.int64(203), np.int64(229), np.int64(242), np.int64(233), np.int64(267), np.int64(269), np.int64(270), np.int64(315), np.int64(364), np.int64(347), np.int64(312), np.int64(274), np.int64(237), np.int64(278), np.int64(284), np.int64(277), np.int64(317), np.int64(313), np.int64(318), np.int64(374), np.int64(413), np.int64(405), np.int64(355), np.int64(306), np.int64(271), np.int64(306), np.int64(315), np.int64(301), np.int64(356), np.int64(348), np.int64(355), np.int64(422), np.int64(465), np.int64(467), np.int64(404), np.int64(347), np.int64(305), np.int64(336), np.int64(340), np.int64(318), np.int64(362), np.int64(348), np.int64(363), np.int64(435)]\n",
      "Training ML models to predict test 0\n",
      "[[112, 118, 132, 129, 121, 135, 148, 148, 136, 119, 104, 118, 115], [118, 132, 129, 121, 135, 148, 148, 136, 119, 104, 118, 115, 126], [132, 129, 121, 135, 148, 148, 136, 119, 104, 118, 115, 126, 141], [129, 121, 135, 148, 148, 136, 119, 104, 118, 115, 126, 141, 135], [121, 135, 148, 148, 136, 119, 104, 118, 115, 126, 141, 135, 125], [135, 148, 148, 136, 119, 104, 118, 115, 126, 141, 135, 125, 149], [148, 148, 136, 119, 104, 118, 115, 126, 141, 135, 125, 149, 170], [148, 136, 119, 104, 118, 115, 126, 141, 135, 125, 149, 170, 170], [136, 119, 104, 118, 115, 126, 141, 135, 125, 149, 170, 170, 158], [119, 104, 118, 115, 126, 141, 135, 125, 149, 170, 170, 158, 133], [104, 118, 115, 126, 141, 135, 125, 149, 170, 170, 158, 133, 114], [118, 115, 126, 141, 135, 125, 149, 170, 170, 158, 133, 114, 140], [115, 126, 141, 135, 125, 149, 170, 170, 158, 133, 114, 140, 145], [126, 141, 135, 125, 149, 170, 170, 158, 133, 114, 140, 145, 150], [141, 135, 125, 149, 170, 170, 158, 133, 114, 140, 145, 150, 178], [135, 125, 149, 170, 170, 158, 133, 114, 140, 145, 150, 178, 163], [125, 149, 170, 170, 158, 133, 114, 140, 145, 150, 178, 163, 172], [149, 170, 170, 158, 133, 114, 140, 145, 150, 178, 163, 172, 178], [170, 170, 158, 133, 114, 140, 145, 150, 178, 163, 172, 178, 199], [170, 158, 133, 114, 140, 145, 150, 178, 163, 172, 178, 199, 199], [158, 133, 114, 140, 145, 150, 178, 163, 172, 178, 199, 199, 184], [133, 114, 140, 145, 150, 178, 163, 172, 178, 199, 199, 184, 162], [114, 140, 145, 150, 178, 163, 172, 178, 199, 199, 184, 162, 146], [140, 145, 150, 178, 163, 172, 178, 199, 199, 184, 162, 146, 166], [145, 150, 178, 163, 172, 178, 199, 199, 184, 162, 146, 166, 171], [150, 178, 163, 172, 178, 199, 199, 184, 162, 146, 166, 171, 180], [178, 163, 172, 178, 199, 199, 184, 162, 146, 166, 171, 180, 193], [163, 172, 178, 199, 199, 184, 162, 146, 166, 171, 180, 193, 181], [172, 178, 199, 199, 184, 162, 146, 166, 171, 180, 193, 181, 183], [178, 199, 199, 184, 162, 146, 166, 171, 180, 193, 181, 183, 218], [199, 199, 184, 162, 146, 166, 171, 180, 193, 181, 183, 218, 230], [199, 184, 162, 146, 166, 171, 180, 193, 181, 183, 218, 230, 242], [184, 162, 146, 166, 171, 180, 193, 181, 183, 218, 230, 242, 209], [162, 146, 166, 171, 180, 193, 181, 183, 218, 230, 242, 209, 191], [146, 166, 171, 180, 193, 181, 183, 218, 230, 242, 209, 191, 172], [166, 171, 180, 193, 181, 183, 218, 230, 242, 209, 191, 172, 194], [171, 180, 193, 181, 183, 218, 230, 242, 209, 191, 172, 194, 196], [180, 193, 181, 183, 218, 230, 242, 209, 191, 172, 194, 196, 196], [193, 181, 183, 218, 230, 242, 209, 191, 172, 194, 196, 196, 236], [181, 183, 218, 230, 242, 209, 191, 172, 194, 196, 196, 236, 235], [183, 218, 230, 242, 209, 191, 172, 194, 196, 196, 236, 235, 229], [218, 230, 242, 209, 191, 172, 194, 196, 196, 236, 235, 229, 243], [230, 242, 209, 191, 172, 194, 196, 196, 236, 235, 229, 243, 264], [242, 209, 191, 172, 194, 196, 196, 236, 235, 229, 243, 264, 272], [209, 191, 172, 194, 196, 196, 236, 235, 229, 243, 264, 272, 237], [191, 172, 194, 196, 196, 236, 235, 229, 243, 264, 272, 237, 211], [172, 194, 196, 196, 236, 235, 229, 243, 264, 272, 237, 211, 180], [194, 196, 196, 236, 235, 229, 243, 264, 272, 237, 211, 180, 201], [196, 196, 236, 235, 229, 243, 264, 272, 237, 211, 180, 201, 204], [196, 236, 235, 229, 243, 264, 272, 237, 211, 180, 201, 204, 188], [236, 235, 229, 243, 264, 272, 237, 211, 180, 201, 204, 188, 235], [235, 229, 243, 264, 272, 237, 211, 180, 201, 204, 188, 235, 227], [229, 243, 264, 272, 237, 211, 180, 201, 204, 188, 235, 227, 234], [243, 264, 272, 237, 211, 180, 201, 204, 188, 235, 227, 234, 264], [264, 272, 237, 211, 180, 201, 204, 188, 235, 227, 234, 264, 302], [272, 237, 211, 180, 201, 204, 188, 235, 227, 234, 264, 302, 293], [237, 211, 180, 201, 204, 188, 235, 227, 234, 264, 302, 293, 259], [211, 180, 201, 204, 188, 235, 227, 234, 264, 302, 293, 259, 229], [180, 201, 204, 188, 235, 227, 234, 264, 302, 293, 259, 229, 203], [201, 204, 188, 235, 227, 234, 264, 302, 293, 259, 229, 203, 229], [204, 188, 235, 227, 234, 264, 302, 293, 259, 229, 203, 229, 242], [188, 235, 227, 234, 264, 302, 293, 259, 229, 203, 229, 242, 233], [235, 227, 234, 264, 302, 293, 259, 229, 203, 229, 242, 233, 267], [227, 234, 264, 302, 293, 259, 229, 203, 229, 242, 233, 267, 269], [234, 264, 302, 293, 259, 229, 203, 229, 242, 233, 267, 269, 270], [264, 302, 293, 259, 229, 203, 229, 242, 233, 267, 269, 270, 315], [302, 293, 259, 229, 203, 229, 242, 233, 267, 269, 270, 315, 364], [293, 259, 229, 203, 229, 242, 233, 267, 269, 270, 315, 364, 347], [259, 229, 203, 229, 242, 233, 267, 269, 270, 315, 364, 347, 312], [229, 203, 229, 242, 233, 267, 269, 270, 315, 364, 347, 312, 274], [203, 229, 242, 233, 267, 269, 270, 315, 364, 347, 312, 274, 237], [229, 242, 233, 267, 269, 270, 315, 364, 347, 312, 274, 237, 278], [242, 233, 267, 269, 270, 315, 364, 347, 312, 274, 237, 278, 284], [233, 267, 269, 270, 315, 364, 347, 312, 274, 237, 278, 284, 277], [267, 269, 270, 315, 364, 347, 312, 274, 237, 278, 284, 277, 317], [269, 270, 315, 364, 347, 312, 274, 237, 278, 284, 277, 317, 313], [270, 315, 364, 347, 312, 274, 237, 278, 284, 277, 317, 313, 318], [315, 364, 347, 312, 274, 237, 278, 284, 277, 317, 313, 318, 374], [364, 347, 312, 274, 237, 278, 284, 277, 317, 313, 318, 374, 413], [347, 312, 274, 237, 278, 284, 277, 317, 313, 318, 374, 413, 405], [312, 274, 237, 278, 284, 277, 317, 313, 318, 374, 413, 405, 355], [274, 237, 278, 284, 277, 317, 313, 318, 374, 413, 405, 355, 306], [237, 278, 284, 277, 317, 313, 318, 374, 413, 405, 355, 306, 271], [278, 284, 277, 317, 313, 318, 374, 413, 405, 355, 306, 271, 306], [284, 277, 317, 313, 318, 374, 413, 405, 355, 306, 271, 306, 315], [277, 317, 313, 318, 374, 413, 405, 355, 306, 271, 306, 315, 301], [317, 313, 318, 374, 413, 405, 355, 306, 271, 306, 315, 301, 356], [313, 318, 374, 413, 405, 355, 306, 271, 306, 315, 301, 356, 348], [318, 374, 413, 405, 355, 306, 271, 306, 315, 301, 356, 348, 355], [374, 413, 405, 355, 306, 271, 306, 315, 301, 356, 348, 355, 422], [413, 405, 355, 306, 271, 306, 315, 301, 356, 348, 355, 422, 465], [405, 355, 306, 271, 306, 315, 301, 356, 348, 355, 422, 465, 467], [355, 306, 271, 306, 315, 301, 356, 348, 355, 422, 465, 467, 404], [306, 271, 306, 315, 301, 356, 348, 355, 422, 465, 467, 404, 347], [271, 306, 315, 301, 356, 348, 355, 422, 465, 467, 404, 347, 305], [306, 315, 301, 356, 348, 355, 422, 465, 467, 404, 347, 305, 336], [315, 301, 356, 348, 355, 422, 465, 467, 404, 347, 305, 336, 340], [301, 356, 348, 355, 422, 465, 467, 404, 347, 305, 336, 340, 318], [356, 348, 355, 422, 465, 467, 404, 347, 305, 336, 340, 318, 362], [348, 355, 422, 465, 467, 404, 347, 305, 336, 340, 318, 362, 348], [355, 422, 465, 467, 404, 347, 305, 336, 340, 318, 362, 348, 363]]\n",
      "[np.int64(126), np.int64(141), np.int64(135), np.int64(125), np.int64(149), np.int64(170), np.int64(170), np.int64(158), np.int64(133), np.int64(114), np.int64(140), np.int64(145), np.int64(150), np.int64(178), np.int64(163), np.int64(172), np.int64(178), np.int64(199), np.int64(199), np.int64(184), np.int64(162), np.int64(146), np.int64(166), np.int64(171), np.int64(180), np.int64(193), np.int64(181), np.int64(183), np.int64(218), np.int64(230), np.int64(242), np.int64(209), np.int64(191), np.int64(172), np.int64(194), np.int64(196), np.int64(196), np.int64(236), np.int64(235), np.int64(229), np.int64(243), np.int64(264), np.int64(272), np.int64(237), np.int64(211), np.int64(180), np.int64(201), np.int64(204), np.int64(188), np.int64(235), np.int64(227), np.int64(234), np.int64(264), np.int64(302), np.int64(293), np.int64(259), np.int64(229), np.int64(203), np.int64(229), np.int64(242), np.int64(233), np.int64(267), np.int64(269), np.int64(270), np.int64(315), np.int64(364), np.int64(347), np.int64(312), np.int64(274), np.int64(237), np.int64(278), np.int64(284), np.int64(277), np.int64(317), np.int64(313), np.int64(318), np.int64(374), np.int64(413), np.int64(405), np.int64(355), np.int64(306), np.int64(271), np.int64(306), np.int64(315), np.int64(301), np.int64(356), np.int64(348), np.int64(355), np.int64(422), np.int64(465), np.int64(467), np.int64(404), np.int64(347), np.int64(305), np.int64(336), np.int64(340), np.int64(318), np.int64(362), np.int64(348), np.int64(363), np.int64(435)]\n",
      "[465, 467, 404, 347, 305, 336, 340, 318, 362, 348, 363, 435, 491]\n",
      "Training ML models to predict test 1\n",
      "[[112, 118, 132, 129, 121, 135, 148, 148, 136, 119, 104, 118, 115], [118, 132, 129, 121, 135, 148, 148, 136, 119, 104, 118, 115, 126], [132, 129, 121, 135, 148, 148, 136, 119, 104, 118, 115, 126, 141], [129, 121, 135, 148, 148, 136, 119, 104, 118, 115, 126, 141, 135], [121, 135, 148, 148, 136, 119, 104, 118, 115, 126, 141, 135, 125], [135, 148, 148, 136, 119, 104, 118, 115, 126, 141, 135, 125, 149], [148, 148, 136, 119, 104, 118, 115, 126, 141, 135, 125, 149, 170], [148, 136, 119, 104, 118, 115, 126, 141, 135, 125, 149, 170, 170], [136, 119, 104, 118, 115, 126, 141, 135, 125, 149, 170, 170, 158], [119, 104, 118, 115, 126, 141, 135, 125, 149, 170, 170, 158, 133], [104, 118, 115, 126, 141, 135, 125, 149, 170, 170, 158, 133, 114], [118, 115, 126, 141, 135, 125, 149, 170, 170, 158, 133, 114, 140], [115, 126, 141, 135, 125, 149, 170, 170, 158, 133, 114, 140, 145], [126, 141, 135, 125, 149, 170, 170, 158, 133, 114, 140, 145, 150], [141, 135, 125, 149, 170, 170, 158, 133, 114, 140, 145, 150, 178], [135, 125, 149, 170, 170, 158, 133, 114, 140, 145, 150, 178, 163], [125, 149, 170, 170, 158, 133, 114, 140, 145, 150, 178, 163, 172], [149, 170, 170, 158, 133, 114, 140, 145, 150, 178, 163, 172, 178], [170, 170, 158, 133, 114, 140, 145, 150, 178, 163, 172, 178, 199], [170, 158, 133, 114, 140, 145, 150, 178, 163, 172, 178, 199, 199], [158, 133, 114, 140, 145, 150, 178, 163, 172, 178, 199, 199, 184], [133, 114, 140, 145, 150, 178, 163, 172, 178, 199, 199, 184, 162], [114, 140, 145, 150, 178, 163, 172, 178, 199, 199, 184, 162, 146], [140, 145, 150, 178, 163, 172, 178, 199, 199, 184, 162, 146, 166], [145, 150, 178, 163, 172, 178, 199, 199, 184, 162, 146, 166, 171], [150, 178, 163, 172, 178, 199, 199, 184, 162, 146, 166, 171, 180], [178, 163, 172, 178, 199, 199, 184, 162, 146, 166, 171, 180, 193], [163, 172, 178, 199, 199, 184, 162, 146, 166, 171, 180, 193, 181], [172, 178, 199, 199, 184, 162, 146, 166, 171, 180, 193, 181, 183], [178, 199, 199, 184, 162, 146, 166, 171, 180, 193, 181, 183, 218], [199, 199, 184, 162, 146, 166, 171, 180, 193, 181, 183, 218, 230], [199, 184, 162, 146, 166, 171, 180, 193, 181, 183, 218, 230, 242], [184, 162, 146, 166, 171, 180, 193, 181, 183, 218, 230, 242, 209], [162, 146, 166, 171, 180, 193, 181, 183, 218, 230, 242, 209, 191], [146, 166, 171, 180, 193, 181, 183, 218, 230, 242, 209, 191, 172], [166, 171, 180, 193, 181, 183, 218, 230, 242, 209, 191, 172, 194], [171, 180, 193, 181, 183, 218, 230, 242, 209, 191, 172, 194, 196], [180, 193, 181, 183, 218, 230, 242, 209, 191, 172, 194, 196, 196], [193, 181, 183, 218, 230, 242, 209, 191, 172, 194, 196, 196, 236], [181, 183, 218, 230, 242, 209, 191, 172, 194, 196, 196, 236, 235], [183, 218, 230, 242, 209, 191, 172, 194, 196, 196, 236, 235, 229], [218, 230, 242, 209, 191, 172, 194, 196, 196, 236, 235, 229, 243], [230, 242, 209, 191, 172, 194, 196, 196, 236, 235, 229, 243, 264], [242, 209, 191, 172, 194, 196, 196, 236, 235, 229, 243, 264, 272], [209, 191, 172, 194, 196, 196, 236, 235, 229, 243, 264, 272, 237], [191, 172, 194, 196, 196, 236, 235, 229, 243, 264, 272, 237, 211], [172, 194, 196, 196, 236, 235, 229, 243, 264, 272, 237, 211, 180], [194, 196, 196, 236, 235, 229, 243, 264, 272, 237, 211, 180, 201], [196, 196, 236, 235, 229, 243, 264, 272, 237, 211, 180, 201, 204], [196, 236, 235, 229, 243, 264, 272, 237, 211, 180, 201, 204, 188], [236, 235, 229, 243, 264, 272, 237, 211, 180, 201, 204, 188, 235], [235, 229, 243, 264, 272, 237, 211, 180, 201, 204, 188, 235, 227], [229, 243, 264, 272, 237, 211, 180, 201, 204, 188, 235, 227, 234], [243, 264, 272, 237, 211, 180, 201, 204, 188, 235, 227, 234, 264], [264, 272, 237, 211, 180, 201, 204, 188, 235, 227, 234, 264, 302], [272, 237, 211, 180, 201, 204, 188, 235, 227, 234, 264, 302, 293], [237, 211, 180, 201, 204, 188, 235, 227, 234, 264, 302, 293, 259], [211, 180, 201, 204, 188, 235, 227, 234, 264, 302, 293, 259, 229], [180, 201, 204, 188, 235, 227, 234, 264, 302, 293, 259, 229, 203], [201, 204, 188, 235, 227, 234, 264, 302, 293, 259, 229, 203, 229], [204, 188, 235, 227, 234, 264, 302, 293, 259, 229, 203, 229, 242], [188, 235, 227, 234, 264, 302, 293, 259, 229, 203, 229, 242, 233], [235, 227, 234, 264, 302, 293, 259, 229, 203, 229, 242, 233, 267], [227, 234, 264, 302, 293, 259, 229, 203, 229, 242, 233, 267, 269], [234, 264, 302, 293, 259, 229, 203, 229, 242, 233, 267, 269, 270], [264, 302, 293, 259, 229, 203, 229, 242, 233, 267, 269, 270, 315], [302, 293, 259, 229, 203, 229, 242, 233, 267, 269, 270, 315, 364], [293, 259, 229, 203, 229, 242, 233, 267, 269, 270, 315, 364, 347], [259, 229, 203, 229, 242, 233, 267, 269, 270, 315, 364, 347, 312], [229, 203, 229, 242, 233, 267, 269, 270, 315, 364, 347, 312, 274], [203, 229, 242, 233, 267, 269, 270, 315, 364, 347, 312, 274, 237], [229, 242, 233, 267, 269, 270, 315, 364, 347, 312, 274, 237, 278], [242, 233, 267, 269, 270, 315, 364, 347, 312, 274, 237, 278, 284], [233, 267, 269, 270, 315, 364, 347, 312, 274, 237, 278, 284, 277], [267, 269, 270, 315, 364, 347, 312, 274, 237, 278, 284, 277, 317], [269, 270, 315, 364, 347, 312, 274, 237, 278, 284, 277, 317, 313], [270, 315, 364, 347, 312, 274, 237, 278, 284, 277, 317, 313, 318], [315, 364, 347, 312, 274, 237, 278, 284, 277, 317, 313, 318, 374], [364, 347, 312, 274, 237, 278, 284, 277, 317, 313, 318, 374, 413], [347, 312, 274, 237, 278, 284, 277, 317, 313, 318, 374, 413, 405], [312, 274, 237, 278, 284, 277, 317, 313, 318, 374, 413, 405, 355], [274, 237, 278, 284, 277, 317, 313, 318, 374, 413, 405, 355, 306], [237, 278, 284, 277, 317, 313, 318, 374, 413, 405, 355, 306, 271], [278, 284, 277, 317, 313, 318, 374, 413, 405, 355, 306, 271, 306], [284, 277, 317, 313, 318, 374, 413, 405, 355, 306, 271, 306, 315], [277, 317, 313, 318, 374, 413, 405, 355, 306, 271, 306, 315, 301], [317, 313, 318, 374, 413, 405, 355, 306, 271, 306, 315, 301, 356], [313, 318, 374, 413, 405, 355, 306, 271, 306, 315, 301, 356, 348], [318, 374, 413, 405, 355, 306, 271, 306, 315, 301, 356, 348, 355], [374, 413, 405, 355, 306, 271, 306, 315, 301, 356, 348, 355, 422], [413, 405, 355, 306, 271, 306, 315, 301, 356, 348, 355, 422, 465], [405, 355, 306, 271, 306, 315, 301, 356, 348, 355, 422, 465, 467], [355, 306, 271, 306, 315, 301, 356, 348, 355, 422, 465, 467, 404], [306, 271, 306, 315, 301, 356, 348, 355, 422, 465, 467, 404, 347], [271, 306, 315, 301, 356, 348, 355, 422, 465, 467, 404, 347, 305], [306, 315, 301, 356, 348, 355, 422, 465, 467, 404, 347, 305, 336], [315, 301, 356, 348, 355, 422, 465, 467, 404, 347, 305, 336, 340], [301, 356, 348, 355, 422, 465, 467, 404, 347, 305, 336, 340, 318], [356, 348, 355, 422, 465, 467, 404, 347, 305, 336, 340, 318, 362], [348, 355, 422, 465, 467, 404, 347, 305, 336, 340, 318, 362, 348], [355, 422, 465, 467, 404, 347, 305, 336, 340, 318, 362, 348, 363], [465, 467, 404, 347, 305, 336, 340, 318, 362, 348, 363, 435, 491]]\n",
      "[np.int64(126), np.int64(141), np.int64(135), np.int64(125), np.int64(149), np.int64(170), np.int64(170), np.int64(158), np.int64(133), np.int64(114), np.int64(140), np.int64(145), np.int64(150), np.int64(178), np.int64(163), np.int64(172), np.int64(178), np.int64(199), np.int64(199), np.int64(184), np.int64(162), np.int64(146), np.int64(166), np.int64(171), np.int64(180), np.int64(193), np.int64(181), np.int64(183), np.int64(218), np.int64(230), np.int64(242), np.int64(209), np.int64(191), np.int64(172), np.int64(194), np.int64(196), np.int64(196), np.int64(236), np.int64(235), np.int64(229), np.int64(243), np.int64(264), np.int64(272), np.int64(237), np.int64(211), np.int64(180), np.int64(201), np.int64(204), np.int64(188), np.int64(235), np.int64(227), np.int64(234), np.int64(264), np.int64(302), np.int64(293), np.int64(259), np.int64(229), np.int64(203), np.int64(229), np.int64(242), np.int64(233), np.int64(267), np.int64(269), np.int64(270), np.int64(315), np.int64(364), np.int64(347), np.int64(312), np.int64(274), np.int64(237), np.int64(278), np.int64(284), np.int64(277), np.int64(317), np.int64(313), np.int64(318), np.int64(374), np.int64(413), np.int64(405), np.int64(355), np.int64(306), np.int64(271), np.int64(306), np.int64(315), np.int64(301), np.int64(356), np.int64(348), np.int64(355), np.int64(422), np.int64(465), np.int64(467), np.int64(404), np.int64(347), np.int64(305), np.int64(336), np.int64(340), np.int64(318), np.int64(362), np.int64(348), np.int64(363), np.int64(435), np.int64(505)]\n",
      "[972 909 852 810 841 845 823 867 853 868 940 996]\n"
     ]
    },
    {
     "ename": "ValueError",
     "evalue": "X has 12 features, but RandomForestRegressor is expecting 13 features as input.",
     "output_type": "error",
     "traceback": [
      "\u001b[31m---------------------------------------------------------------------------\u001b[39m",
      "\u001b[31mValueError\u001b[39m                                Traceback (most recent call last)",
      "\u001b[36mCell\u001b[39m\u001b[36m \u001b[39m\u001b[32mIn[80]\u001b[39m\u001b[32m, line 4\u001b[39m\n\u001b[32m      1\u001b[39m numlags = \u001b[32m13\u001b[39m \u001b[38;5;66;03m# lags values to get\u001b[39;00m\n\u001b[32m      2\u001b[39m train_fraction = \u001b[32m0.8\u001b[39m  \u001b[38;5;66;03m# 80% training\u001b[39;00m\n\u001b[32m----> \u001b[39m\u001b[32m4\u001b[39m \u001b[43mevaluate_MLmodels_lags\u001b[49m\u001b[43m(\u001b[49m\u001b[43mserie\u001b[49m\u001b[43m,\u001b[49m\u001b[43m \u001b[49m\u001b[43mnumlags\u001b[49m\u001b[43m,\u001b[49m\u001b[43m \u001b[49m\u001b[43mtrain_fraction\u001b[49m\u001b[43m \u001b[49m\u001b[43m)\u001b[49m\n",
      "\u001b[36mCell\u001b[39m\u001b[36m \u001b[39m\u001b[32mIn[79]\u001b[39m\u001b[32m, line 40\u001b[39m, in \u001b[36mevaluate_MLmodels_lags\u001b[39m\u001b[34m(serie, numlags, train_fraction)\u001b[39m\n\u001b[32m     38\u001b[39m \u001b[38;5;28mprint\u001b[39m(X_test)\n\u001b[32m     39\u001b[39m \u001b[38;5;66;03m# Predict test and save it\u001b[39;00m\n\u001b[32m---> \u001b[39m\u001b[32m40\u001b[39m y_RF = \u001b[43mrf_model\u001b[49m\u001b[43m.\u001b[49m\u001b[43mpredict\u001b[49m\u001b[43m(\u001b[49m\u001b[43m[\u001b[49m\u001b[43mX_test\u001b[49m\u001b[43m]\u001b[49m\u001b[43m)\u001b[49m[\u001b[32m0\u001b[39m]\n\u001b[32m     41\u001b[39m predictionsRF.append(y_RF)\n\u001b[32m     43\u001b[39m y_LR = lr_model.predict([X_test])[\u001b[32m0\u001b[39m]\n",
      "\u001b[36mFile \u001b[39m\u001b[32m~\\AppData\\Roaming\\Python\\Python312\\site-packages\\sklearn\\ensemble\\_forest.py:1066\u001b[39m, in \u001b[36mForestRegressor.predict\u001b[39m\u001b[34m(self, X)\u001b[39m\n\u001b[32m   1064\u001b[39m check_is_fitted(\u001b[38;5;28mself\u001b[39m)\n\u001b[32m   1065\u001b[39m \u001b[38;5;66;03m# Check data\u001b[39;00m\n\u001b[32m-> \u001b[39m\u001b[32m1066\u001b[39m X = \u001b[38;5;28;43mself\u001b[39;49m\u001b[43m.\u001b[49m\u001b[43m_validate_X_predict\u001b[49m\u001b[43m(\u001b[49m\u001b[43mX\u001b[49m\u001b[43m)\u001b[49m\n\u001b[32m   1068\u001b[39m \u001b[38;5;66;03m# Assign chunk of trees to jobs\u001b[39;00m\n\u001b[32m   1069\u001b[39m n_jobs, _, _ = _partition_estimators(\u001b[38;5;28mself\u001b[39m.n_estimators, \u001b[38;5;28mself\u001b[39m.n_jobs)\n",
      "\u001b[36mFile \u001b[39m\u001b[32m~\\AppData\\Roaming\\Python\\Python312\\site-packages\\sklearn\\ensemble\\_forest.py:638\u001b[39m, in \u001b[36mBaseForest._validate_X_predict\u001b[39m\u001b[34m(self, X)\u001b[39m\n\u001b[32m    635\u001b[39m \u001b[38;5;28;01melse\u001b[39;00m:\n\u001b[32m    636\u001b[39m     ensure_all_finite = \u001b[38;5;28;01mTrue\u001b[39;00m\n\u001b[32m--> \u001b[39m\u001b[32m638\u001b[39m X = \u001b[43mvalidate_data\u001b[49m\u001b[43m(\u001b[49m\n\u001b[32m    639\u001b[39m \u001b[43m    \u001b[49m\u001b[38;5;28;43mself\u001b[39;49m\u001b[43m,\u001b[49m\n\u001b[32m    640\u001b[39m \u001b[43m    \u001b[49m\u001b[43mX\u001b[49m\u001b[43m,\u001b[49m\n\u001b[32m    641\u001b[39m \u001b[43m    \u001b[49m\u001b[43mdtype\u001b[49m\u001b[43m=\u001b[49m\u001b[43mDTYPE\u001b[49m\u001b[43m,\u001b[49m\n\u001b[32m    642\u001b[39m \u001b[43m    \u001b[49m\u001b[43maccept_sparse\u001b[49m\u001b[43m=\u001b[49m\u001b[33;43m\"\u001b[39;49m\u001b[33;43mcsr\u001b[39;49m\u001b[33;43m\"\u001b[39;49m\u001b[43m,\u001b[49m\n\u001b[32m    643\u001b[39m \u001b[43m    \u001b[49m\u001b[43mreset\u001b[49m\u001b[43m=\u001b[49m\u001b[38;5;28;43;01mFalse\u001b[39;49;00m\u001b[43m,\u001b[49m\n\u001b[32m    644\u001b[39m \u001b[43m    \u001b[49m\u001b[43mensure_all_finite\u001b[49m\u001b[43m=\u001b[49m\u001b[43mensure_all_finite\u001b[49m\u001b[43m,\u001b[49m\n\u001b[32m    645\u001b[39m \u001b[43m\u001b[49m\u001b[43m)\u001b[49m\n\u001b[32m    646\u001b[39m \u001b[38;5;28;01mif\u001b[39;00m issparse(X) \u001b[38;5;129;01mand\u001b[39;00m (X.indices.dtype != np.intc \u001b[38;5;129;01mor\u001b[39;00m X.indptr.dtype != np.intc):\n\u001b[32m    647\u001b[39m     \u001b[38;5;28;01mraise\u001b[39;00m \u001b[38;5;167;01mValueError\u001b[39;00m(\u001b[33m\"\u001b[39m\u001b[33mNo support for np.int64 index based sparse matrices\u001b[39m\u001b[33m\"\u001b[39m)\n",
      "\u001b[36mFile \u001b[39m\u001b[32m~\\AppData\\Roaming\\Python\\Python312\\site-packages\\sklearn\\utils\\validation.py:2965\u001b[39m, in \u001b[36mvalidate_data\u001b[39m\u001b[34m(_estimator, X, y, reset, validate_separately, skip_check_array, **check_params)\u001b[39m\n\u001b[32m   2962\u001b[39m     out = X, y\n\u001b[32m   2964\u001b[39m \u001b[38;5;28;01mif\u001b[39;00m \u001b[38;5;129;01mnot\u001b[39;00m no_val_X \u001b[38;5;129;01mand\u001b[39;00m check_params.get(\u001b[33m\"\u001b[39m\u001b[33mensure_2d\u001b[39m\u001b[33m\"\u001b[39m, \u001b[38;5;28;01mTrue\u001b[39;00m):\n\u001b[32m-> \u001b[39m\u001b[32m2965\u001b[39m     \u001b[43m_check_n_features\u001b[49m\u001b[43m(\u001b[49m\u001b[43m_estimator\u001b[49m\u001b[43m,\u001b[49m\u001b[43m \u001b[49m\u001b[43mX\u001b[49m\u001b[43m,\u001b[49m\u001b[43m \u001b[49m\u001b[43mreset\u001b[49m\u001b[43m=\u001b[49m\u001b[43mreset\u001b[49m\u001b[43m)\u001b[49m\n\u001b[32m   2967\u001b[39m \u001b[38;5;28;01mreturn\u001b[39;00m out\n",
      "\u001b[36mFile \u001b[39m\u001b[32m~\\AppData\\Roaming\\Python\\Python312\\site-packages\\sklearn\\utils\\validation.py:2829\u001b[39m, in \u001b[36m_check_n_features\u001b[39m\u001b[34m(estimator, X, reset)\u001b[39m\n\u001b[32m   2826\u001b[39m     \u001b[38;5;28;01mreturn\u001b[39;00m\n\u001b[32m   2828\u001b[39m \u001b[38;5;28;01mif\u001b[39;00m n_features != estimator.n_features_in_:\n\u001b[32m-> \u001b[39m\u001b[32m2829\u001b[39m     \u001b[38;5;28;01mraise\u001b[39;00m \u001b[38;5;167;01mValueError\u001b[39;00m(\n\u001b[32m   2830\u001b[39m         \u001b[33mf\u001b[39m\u001b[33m\"\u001b[39m\u001b[33mX has \u001b[39m\u001b[38;5;132;01m{\u001b[39;00mn_features\u001b[38;5;132;01m}\u001b[39;00m\u001b[33m features, but \u001b[39m\u001b[38;5;132;01m{\u001b[39;00mestimator.\u001b[34m__class__\u001b[39m.\u001b[34m__name__\u001b[39m\u001b[38;5;132;01m}\u001b[39;00m\u001b[33m \u001b[39m\u001b[33m\"\u001b[39m\n\u001b[32m   2831\u001b[39m         \u001b[33mf\u001b[39m\u001b[33m\"\u001b[39m\u001b[33mis expecting \u001b[39m\u001b[38;5;132;01m{\u001b[39;00mestimator.n_features_in_\u001b[38;5;132;01m}\u001b[39;00m\u001b[33m features as input.\u001b[39m\u001b[33m\"\u001b[39m\n\u001b[32m   2832\u001b[39m     )\n",
      "\u001b[31mValueError\u001b[39m: X has 12 features, but RandomForestRegressor is expecting 13 features as input."
     ]
    }
   ],
   "source": [
    "numlags = 13 # lags values to get\n",
    "train_fraction = 0.8  # 80% training\n",
    "\n",
    "evaluate_MLmodels_lags(serie, numlags, train_fraction )"
   ]
  }
 ],
 "metadata": {
  "kernelspec": {
   "display_name": "Python 3",
   "language": "python",
   "name": "python3"
  },
  "language_info": {
   "codemirror_mode": {
    "name": "ipython",
    "version": 3
   },
   "file_extension": ".py",
   "mimetype": "text/x-python",
   "name": "python",
   "nbconvert_exporter": "python",
   "pygments_lexer": "ipython3",
   "version": "3.12.10"
  }
 },
 "nbformat": 4,
 "nbformat_minor": 5
}
